{
 "cells": [
  {
   "cell_type": "markdown",
   "metadata": {},
   "source": [
    "# Getting started with Julia with examples\n",
    "This notebook is intended to highlight some of the syntax of Julia through examples. It is not intended to be an exhaustive description. There are lots of good documentation on Julia online. For a more complete outline of the language refer to the [Julia Manual](https://docs.julialang.org/en/v1/manual/getting-started/). There is also a great [YouTube introduction tutorial on Julia](https://www.youtube.com/watch?v=8h8rQyEpiZA&t).\n",
    "\n",
    "In this example I assume that you are already familiar with general progamming in R or Python.\n",
    "\n",
    "Many of the examples in this guide are taken from the [Julia By Example](https://juliabyexample.helpmanual.io/) guide.\n",
    "\n",
    "## Julia performance - slow to start, fast to run.\n",
    "Julia is a modern language built for high performance scientific programming. It has syntax simplicity similar to Python, but is much faster (10 - 100x). It gets this speed by compiling the script to native code rather than interpretting each line. This compilation is performed Just In Time (JIT) which means that before a block of code is run it is compiled. As a result the first time something is run it will be slow, because the compilation is being performed. Subsequent runs of the code will however be really fast. Nearly as fast as C code.\n",
    "Python and R on the other hand are interpretted languages making them slow as each line of code needs to be repeatily be analysed to workout the machine instructions needed to match the code being run. Python and R compensate for this inherent slowness by relying on binding to C/C++ libraries to perform any computationally expensive tasks. This means that if your algorithm fits the mold of those available in these libraries you can get good performance in R or Python. But if you are doing something a little different then your code will be slow. Admittedly Python includes a number of techniques and libraries, such as [Numba](https://numba.pydata.org/) to improve its performance. Numba performs JIT compilation on sections of Python to speed them up. Unfortunately it only works on a subset of Python as Python was never designed for performance and so there is no guarantee that it will be able to be used for your custom code.\n",
    "\n",
    "## Variables\n",
    "Variables in Julia operate in a manner similar to R and Python. Julia also supports Unicode characters in the variables names. This allows variable names to better express mathematical functions."
   ]
  },
  {
   "cell_type": "code",
   "execution_count": 1,
   "metadata": {},
   "outputs": [
    {
     "data": {
      "text/plain": [
       "3"
      ]
     },
     "execution_count": 1,
     "metadata": {},
     "output_type": "execute_result"
    }
   ],
   "source": [
    "x = 1 + 2"
   ]
  },
  {
   "cell_type": "code",
   "execution_count": 1,
   "metadata": {},
   "outputs": [
    {
     "data": {
      "text/plain": [
       "1.0e-5"
      ]
     },
     "execution_count": 1,
     "metadata": {},
     "output_type": "execute_result"
    }
   ],
   "source": [
    "δ = 0.00001"
   ]
  },
  {
   "cell_type": "markdown",
   "metadata": {},
   "source": [
    "Stylistic conventions in variables:\n",
    "* Variables are in lower case\n",
    "* Multiple words in variables are joined together, with '_' being used to separate them if they are hard to read.\n",
    "* Names of Types and Modules use CamelCase.\n",
    "* Functions and macros use lower case without underscore.\n",
    "* Functions that modify their arguments (write back to variables that are passed by reference) end in !.\n",
    "\n",
    "## Totally random but cool demo of mandelbrot set"
   ]
  },
  {
   "cell_type": "code",
   "execution_count": 2,
   "metadata": {},
   "outputs": [
    {
     "name": "stdout",
     "output_type": "stream",
     "text": [
      "                                                                                \n",
      "                                                                                \n",
      "                                                                                \n",
      "                                                           **                   \n",
      "                                                         ******                 \n",
      "                                                       ********                 \n",
      "                                                         ******                 \n",
      "                                                      ******** **   *           \n",
      "                                              ***   *****************           \n",
      "                                              ************************  ***     \n",
      "                                              ****************************      \n",
      "                                           ******************************       \n",
      "                                            ******************************      \n",
      "                                         ************************************   \n",
      "                                *         **********************************    \n",
      "                           ** ***** *     **********************************    \n",
      "                           ***********   ************************************   \n",
      "                         ************** ************************************    \n",
      "                         ***************************************************    \n",
      "                     *****************************************************      \n",
      " ***********************************************************************        \n",
      "                     *****************************************************      \n",
      "                         ***************************************************    \n",
      "                         ************** ************************************    \n",
      "                           ***********   ************************************   \n",
      "                           ** ***** *     **********************************    \n",
      "                                *         **********************************    \n",
      "                                         ************************************   \n",
      "                                            ******************************      \n",
      "                                           ******************************       \n",
      "                                              ****************************      \n",
      "                                              ************************  ***     \n",
      "                                              ***   *****************           \n",
      "                                                      ******** **   *           \n",
      "                                                         ******                 \n",
      "                                                       ********                 \n",
      "                                                         ******                 \n",
      "                                                           **                   \n",
      "                                                                                \n",
      "                                                                                \n",
      "                                                                                \n"
     ]
    }
   ],
   "source": [
    "# Taken from: https://rosettacode.org/wiki/Mandelbrot_set#Julia\n",
    "function mandelbrot(a)\n",
    "    z = 0\n",
    "    for i=1:50\n",
    "        z = z^2 + a\n",
    "    end\n",
    "    return z\n",
    "end\n",
    "\n",
    "for y=1.0:-0.05:-1.0\n",
    "    for x=-2.0:0.0315:0.5\n",
    "        abs(mandelbrot(complex(x, y))) < 2 ? print(\"*\") : print(\" \")\n",
    "    end\n",
    "    println()\n",
    "end"
   ]
  },
  {
   "cell_type": "markdown",
   "metadata": {},
   "source": [
    "Here is a bunch of examples mostly derived from https://juliabyexample.helpmanual.io/\n",
    "## Simple functions"
   ]
  },
  {
   "cell_type": "code",
   "execution_count": 1,
   "metadata": {},
   "outputs": [
    {
     "name": "stdout",
     "output_type": "stream",
     "text": [
      "volume = 113.097\n",
      "result 1: 3.0\n",
      "result 2: -2.0\n"
     ]
    }
   ],
   "source": [
    "#= \n",
    "Function to calculate the volume of a sphere. \n",
    "Note: this is an example of a multiline comment.\n",
    "=#\n",
    "function sphere_vol(r)\n",
    "    # julia allows Unicode names (in UTF-8 encoding)\n",
    "    # so either \"pi\" or the symbol π can be used\n",
    "    return 4/3*pi*r^3\n",
    "end\n",
    "\n",
    "# functions can also be defined more succinctly\n",
    "quadratic(a, sqr_term, b) = (-b + sqr_term) / 2a\n",
    "\n",
    "# calculates x for 0 = a*x^2+b*x+c, arguments types can be defined in function definitions\n",
    "function quadratic2(a::Float64, b::Float64, c::Float64)\n",
    "    # unlike other languages 2a is equivalent to 2*a\n",
    "    # a^2 is used instead of a**2 or pow(a,2)\n",
    "    sqr_term = sqrt(b^2-4a*c)\n",
    "    r1 = quadratic(a, sqr_term, b)\n",
    "    r2 = quadratic(a, -sqr_term, b)\n",
    "    # multiple values can be returned from a function using tuples\n",
    "    # if the return keyword is omitted, the last term is returned\n",
    "    r1, r2\n",
    "end\n",
    "\n",
    "vol = sphere_vol(3)\n",
    "# @printf allows number formatting but does not automatically append the \\n to statements, see below\n",
    "using Printf\n",
    "@printf \"volume = %0.3f\\n\" vol \n",
    "#> volume = 113.097\n",
    "\n",
    "quad1, quad2 = quadratic2(2.0, -2.0, -12.0)\n",
    "println(\"result 1: \", quad1)\n",
    "#> result 1: 3.0\n",
    "println(\"result 2: \", quad2)\n",
    "#> result 2: -2.0"
   ]
  },
  {
   "cell_type": "markdown",
   "metadata": {},
   "source": [
    "# String Basics"
   ]
  },
  {
   "cell_type": "markdown",
   "metadata": {},
   "source": [
    "Strings are defined with double quotes like variables. Strings can contain any unicode character"
   ]
  },
  {
   "cell_type": "code",
   "execution_count": 4,
   "metadata": {},
   "outputs": [
    {
     "name": "stdout",
     "output_type": "stream",
     "text": [
      "The quick brown fox jumps over the lazy dog α,β,γ\n"
     ]
    }
   ],
   "source": [
    "s1 = \"The quick brown fox jumps over the lazy dog α,β,γ\"\n",
    "println(s1)"
   ]
  },
  {
   "cell_type": "markdown",
   "metadata": {},
   "source": [
    "Println adds a new line to the end of output. Print can be used if you dont want that:"
   ]
  },
  {
   "cell_type": "code",
   "execution_count": 5,
   "metadata": {},
   "outputs": [
    {
     "name": "stdout",
     "output_type": "stream",
     "text": [
      "This and that.\n",
      "This is a second line.\n"
     ]
    }
   ],
   "source": [
    "print(\"This\")\n",
    "print(\" and\")\n",
    "print(\" that.\\n\")\n",
    "println(\"This is a second line.\")"
   ]
  },
  {
   "cell_type": "markdown",
   "metadata": {},
   "source": [
    "Chars are defined with single quotes. The ascii value of a char can be found with Int():"
   ]
  },
  {
   "cell_type": "code",
   "execution_count": 6,
   "metadata": {},
   "outputs": [
    {
     "name": "stdout",
     "output_type": "stream",
     "text": [
      "a ascii value = 97\n",
      "Int('α') == 945\n"
     ]
    }
   ],
   "source": [
    "c1 = 'a'\n",
    "println(c1, \" ascii value = \", Int(c1))\n",
    "\n",
    "# Characters and strings are Unicode\n",
    "println(\"Int('α') == \", Int('α'))"
   ]
  },
  {
   "cell_type": "markdown",
   "metadata": {},
   "source": [
    "Julia allows string Interpolation and these can include statements."
   ]
  },
  {
   "cell_type": "code",
   "execution_count": 9,
   "metadata": {},
   "outputs": [
    {
     "name": "stdout",
     "output_type": "stream",
     "text": [
      "welcome to julia.\n",
      "1 + 2 = 3\n"
     ]
    }
   ],
   "source": [
    "a = \"welcome\"\n",
    "b = \"julia\"\n",
    "println(\"$a to $b.\")\n",
    "println(\"1 + 2 = $(1 + 2)\")"
   ]
  },
  {
   "cell_type": "markdown",
   "metadata": {},
   "source": [
    "Strings can also be concatenated using the * operator. Using * instead of + isn't intuitive when you start with Julia, however [some people think it makes sense](https://groups.google.com/g/julia-users/c/nQg_d_n0t1Q/m/9PSt5aya5TsJ?pli=1). You can also use the string function."
   ]
  },
  {
   "cell_type": "code",
   "execution_count": 10,
   "metadata": {},
   "outputs": [
    {
     "name": "stdout",
     "output_type": "stream",
     "text": [
      "this and that\n",
      "this and that\n"
     ]
    }
   ],
   "source": [
    "s2 = \"this\" * \" and\" * \" that\"\n",
    "println(s2)\n",
    "s3 = string(\"this\", \" and\", \" that\")\n",
    "println(s3)"
   ]
  },
  {
   "cell_type": "markdown",
   "metadata": {},
   "source": [
    "Strings can be parsed to a particular type"
   ]
  },
  {
   "cell_type": "code",
   "execution_count": 11,
   "metadata": {},
   "outputs": [
    {
     "name": "stdout",
     "output_type": "stream",
     "text": [
      "5.436\n",
      "45\n"
     ]
    }
   ],
   "source": [
    "e_str1 = \"2.718\"\n",
    "println(parse(Float64, e_str1) * 2)\n",
    "num_15 = parse(Int, \"15\")\n",
    "\n",
    "# Note the 3num_15 is equivalent to 3 * num_15\n",
    "println(3num_15)"
   ]
  },
  {
   "cell_type": "markdown",
   "metadata": {},
   "source": [
    "Formatting of numbers can be produced using the [printf macro](https://docs.julialang.org/en/v1/stdlib/Printf/#Printf.@printf). In julia printf is implemented as a macro so that the format string can be processed at compile time. This allows it to produce custom code depending on the format string making it much faster. More detail on this can be found in [In Julia, why is @printf a macro instead of a function?](https://stackoverflow.com/questions/19783030/in-julia-why-is-printf-a-macro-instead-of-a-function#:~:text=%40printf%20is%20a%20macro%20so,for%20that%20specific%20format%20string.&text=Julia%20uses%20a%20different%20approach,specific%20to%20that%20format%20specification.). Macro functions are called with the @ symbol."
   ]
  },
  {
   "cell_type": "code",
   "execution_count": 12,
   "metadata": {},
   "outputs": [
    {
     "name": "stdout",
     "output_type": "stream",
     "text": [
      "With two digits: 23.49, with leading spaces    23.49\n",
      "pi is 3.1416\n"
     ]
    }
   ],
   "source": [
    "x = 23.4876\n",
    "@printf(\"With two digits: %.2f, with leading spaces %8.2f\\n\", x, x)\n",
    "\n",
    "# use sprintf to get the result as a string\n",
    "s4 = @sprintf(\"pi is %.4f\", pi)\n",
    "println(s4)"
   ]
  },
  {
   "cell_type": "markdown",
   "metadata": {},
   "source": [
    "## Arrays\n",
    "Arrays in Julia have an index starting at 1, similar to Matlab. The arrays can be thought of as a vertical list of numbers."
   ]
  },
  {
   "cell_type": "code",
   "execution_count": 13,
   "metadata": {},
   "outputs": [
    {
     "data": {
      "text/plain": [
       "3-element Array{Int64,1}:\n",
       " 10\n",
       " 20\n",
       " 30"
      ]
     },
     "execution_count": 13,
     "metadata": {},
     "output_type": "execute_result"
    }
   ],
   "source": [
    "a1 = [10,20,30]"
   ]
  },
  {
   "cell_type": "code",
   "execution_count": 14,
   "metadata": {},
   "outputs": [
    {
     "data": {
      "text/plain": [
       "10"
      ]
     },
     "execution_count": 14,
     "metadata": {},
     "output_type": "execute_result"
    }
   ],
   "source": [
    "a1[1]"
   ]
  },
  {
   "cell_type": "markdown",
   "metadata": {},
   "source": [
    "Arrays can be verically concatenated with a semicolon (;) and horizontally concatenated using spaces."
   ]
  },
  {
   "cell_type": "code",
   "execution_count": 15,
   "metadata": {},
   "outputs": [
    {
     "data": {
      "text/plain": [
       "6-element Array{Int64,1}:\n",
       " 10\n",
       " 20\n",
       " 30\n",
       " 40\n",
       " 50\n",
       " 60"
      ]
     },
     "execution_count": 15,
     "metadata": {},
     "output_type": "execute_result"
    }
   ],
   "source": [
    "a2 = [[10, 20, 30]; [40, 50, 60]]"
   ]
  },
  {
   "cell_type": "code",
   "execution_count": 16,
   "metadata": {},
   "outputs": [
    {
     "data": {
      "text/plain": [
       "2×3 Array{Int64,2}:\n",
       " 10  20  30\n",
       " 40  50  60"
      ]
     },
     "execution_count": 16,
     "metadata": {},
     "output_type": "execute_result"
    }
   ],
   "source": [
    "a3 = [10 20 30; 40 50 60]"
   ]
  },
  {
   "cell_type": "markdown",
   "metadata": {},
   "source": [
    "Array values can be accessed by [] and index values or ranges (2:3)"
   ]
  },
  {
   "cell_type": "code",
   "execution_count": 17,
   "metadata": {},
   "outputs": [
    {
     "data": {
      "text/plain": [
       "2-element Array{Int64,1}:\n",
       " 20\n",
       " 30"
      ]
     },
     "execution_count": 17,
     "metadata": {},
     "output_type": "execute_result"
    }
   ],
   "source": [
    "a3[1,2:3]"
   ]
  },
  {
   "cell_type": "markdown",
   "metadata": {},
   "source": [
    "Similar to R you can access all rows and columns with the colon symbol (:)."
   ]
  },
  {
   "cell_type": "code",
   "execution_count": 18,
   "metadata": {},
   "outputs": [
    {
     "data": {
      "text/plain": [
       "3-element Array{Int64,1}:\n",
       " 10\n",
       " 20\n",
       " 30"
      ]
     },
     "execution_count": 18,
     "metadata": {},
     "output_type": "execute_result"
    }
   ],
   "source": [
    "a3[1,:]"
   ]
  },
  {
   "cell_type": "markdown",
   "metadata": {},
   "source": [
    "Apply the > 20 operation over all elements of the array and use these as indicies into the array. Here we are using the >(20) so that this is a function call to the greater than function. This can also be done using the findall(>(20, a3)."
   ]
  },
  {
   "cell_type": "code",
   "execution_count": 19,
   "metadata": {},
   "outputs": [
    {
     "data": {
      "text/plain": [
       "4-element Array{Int64,1}:\n",
       " 40\n",
       " 50\n",
       " 30\n",
       " 60"
      ]
     },
     "execution_count": 19,
     "metadata": {},
     "output_type": "execute_result"
    }
   ],
   "source": [
    "a3[map(>(20), a3)]"
   ]
  },
  {
   "cell_type": "markdown",
   "metadata": {},
   "source": [
    "## Loops and Map and control flow\n",
    "Unlike R and Python looping code is typically as fast as vectorised code."
   ]
  },
  {
   "cell_type": "code",
   "execution_count": 20,
   "metadata": {},
   "outputs": [
    {
     "name": "stdout",
     "output_type": "stream",
     "text": [
      "1, 2, 3, 4, 5, \n",
      "1, 2, 3, 4, 5, \n"
     ]
    }
   ],
   "source": [
    "for i in 1:5\n",
    "    print(i, \", \")\n",
    "end\n",
    "println()\n",
    "\n",
    "# In loop definitions \"in\" is equivilent to \"=\" \n",
    "# (AFAIK, the two are interchangable in this context)\n",
    "for i = 1:5\n",
    "    print(i, \", \")\n",
    "end\n",
    "println() #> 1, 2, 3, 4, 5,"
   ]
  },
  {
   "cell_type": "code",
   "execution_count": 21,
   "metadata": {},
   "outputs": [
    {
     "name": "stdout",
     "output_type": "stream",
     "text": [
      "1: one, 2: two, 3: three, \n"
     ]
    }
   ],
   "source": [
    "d1 = Dict(1=>\"one\", 2=>\"two\", 3=>\"three\")\n",
    "# dicts may be looped through using the keys function:\n",
    "for k in sort(collect(keys(d1)))\n",
    "    print(k, \": \", d1[k], \", \")\n",
    "end\n",
    "println()"
   ]
  },
  {
   "cell_type": "markdown",
   "metadata": {},
   "source": [
    "Map applies a function to each of the elements in an array. In the example below the function is defined using an anonymous function that maps x to x^2. "
   ]
  },
  {
   "cell_type": "code",
   "execution_count": 22,
   "metadata": {},
   "outputs": [
    {
     "name": "stdout",
     "output_type": "stream",
     "text": [
      "[1, 4, 9, 49]\n"
     ]
    }
   ],
   "source": [
    "a4 = map((x) -> x^2, [1, 2, 3, 7])\n",
    "print(a4) \n",
    "println()"
   ]
  },
  {
   "cell_type": "markdown",
   "metadata": {},
   "source": [
    "Julias control flow is pretty much the same as most other languages."
   ]
  },
  {
   "cell_type": "code",
   "execution_count": 23,
   "metadata": {},
   "outputs": [
    {
     "name": "stdout",
     "output_type": "stream",
     "text": [
      "Look! An Int!\n",
      "Look! A Float!\n",
      "Whoa, that's complex!\n",
      "All is normal\n"
     ]
    }
   ],
   "source": [
    "function checktype(x)\n",
    "   if x isa Int\n",
    "      println(\"Look! An Int!\")\n",
    "   elseif x isa AbstractFloat\n",
    "      println(\"Look! A Float!\")\n",
    "   elseif x isa Complex\n",
    "      println(\"Whoa, that's complex!\")\n",
    "   else\n",
    "      println(\"I have no idea what that is\")\n",
    "   end\n",
    "end\n",
    "\n",
    "checktype(2)\n",
    "checktype(2.0)\n",
    "checktype(2.0+3.0im)\n",
    "\n",
    "1 > 2 ? println(\"Something weird, 1 is bigger than 2\") : println(\"All is normal\")"
   ]
  },
  {
   "cell_type": "markdown",
   "metadata": {},
   "source": [
    "## Types\n",
    "Types are the key way of structuring data within Julia. Type definitions are similar to typedefs in C. They represent a collection of variables of a specific data type. "
   ]
  },
  {
   "cell_type": "code",
   "execution_count": 24,
   "metadata": {},
   "outputs": [
    {
     "data": {
      "text/plain": [
       "\"Julia\""
      ]
     },
     "execution_count": 24,
     "metadata": {},
     "output_type": "execute_result"
    }
   ],
   "source": [
    "mutable struct Person\n",
    "    name::AbstractString\n",
    "    male::Bool\n",
    "    age::Float64\n",
    "    children::Int\n",
    "end\n",
    "\n",
    "p = Person(\"Julia\", false, 4, 0)\n",
    "p.name"
   ]
  },
  {
   "cell_type": "code",
   "execution_count": 25,
   "metadata": {},
   "outputs": [
    {
     "data": {
      "text/plain": [
       "2-element Array{Person,1}:\n",
       " Person(\"Steve\", true, 42.0, 2)\n",
       " Person(\"Jade\", false, 17.0, 3)"
      ]
     },
     "execution_count": 25,
     "metadata": {},
     "output_type": "execute_result"
    }
   ],
   "source": [
    "people = Person[]\n",
    "push!(people, Person(\"Steve\", true, 42, 2))\n",
    "push!(people, Person(\"Jade\", false, 17, 3))"
   ]
  },
  {
   "cell_type": "code",
   "execution_count": 26,
   "metadata": {},
   "outputs": [
    {
     "data": {
      "text/plain": [
       "2-element Array{Person,1}:\n",
       " Person(\"Steve\", true, 42.0, 5)\n",
       " Person(\"Jade\", false, 17.0, 3)"
      ]
     },
     "execution_count": 26,
     "metadata": {},
     "output_type": "execute_result"
    }
   ],
   "source": [
    "people[1].children = 5\n",
    "people"
   ]
  },
  {
   "cell_type": "markdown",
   "metadata": {},
   "source": [
    "Here we introduce parametric composite types. In this case the type of the point is specified by the parameter T. This allows the Point to represent a Point of type Int or Float64. This makes this code more reuseable when you start creating functions that handle these parameters."
   ]
  },
  {
   "cell_type": "code",
   "execution_count": 27,
   "metadata": {},
   "outputs": [
    {
     "data": {
      "text/plain": [
       "Point{AbstractString}(\"A\", \"B\")"
      ]
     },
     "execution_count": 27,
     "metadata": {},
     "output_type": "execute_result"
    }
   ],
   "source": [
    "struct Point{T}\n",
    "    x::T\n",
    "    y::T\n",
    "end\n",
    "\n",
    "p1 = Point{Float64}(2.0,3.0)\n",
    "p2 = Point{Int8}(2,3)\n",
    "p3 = Point{AbstractString}(\"A\",\"B\")"
   ]
  },
  {
   "cell_type": "markdown",
   "metadata": {},
   "source": [
    "## Multiple dispatch\n",
    "In this case the function norm accepts any point where the Point type is of a sub type of Real. In this case it will work for the Float64 and the Int8 but not the AbstractString type. Here we are creating a second function that deals with the string variety. This is obviously a nonsense result, but it does demonstrate the multiple dispatch approach used in Julia, in which the function that is used depends on the types of the arguments."
   ]
  },
  {
   "cell_type": "code",
   "execution_count": 28,
   "metadata": {},
   "outputs": [
    {
     "name": "stdout",
     "output_type": "stream",
     "text": [
      "3.605551275463989\n",
      "3.605551275463989\n",
      "norm:  A, B \n"
     ]
    }
   ],
   "source": [
    "function norm(p::Point{<:Real})\n",
    "    sqrt(p.x^2 + p.y^2)\n",
    "end\n",
    "\n",
    "function norm(p::Point{AbstractString})\n",
    "    \"norm:  $(p.x), $(p.y) \"\n",
    "end\n",
    "\n",
    "println(norm(p1))\n",
    "println(norm(p2))\n",
    "println(norm(p3))"
   ]
  },
  {
   "cell_type": "markdown",
   "metadata": {},
   "source": [
    "## Plotting\n",
    "Plotting in Julia is only possible with additional packages. \n",
    "[Plots.jp package page](http://docs.juliaplots.org/latest/)\n",
    "If they are not installed already packages are installed using the Pkg.add() command. In this Docker container the Plots package was already installed and precompiled to speed up using this package. Even still the first time you run the plot command it will take about 20 sec."
   ]
  },
  {
   "cell_type": "code",
   "execution_count": 29,
   "metadata": {},
   "outputs": [
    {
     "data": {
      "image/svg+xml": [
       "<?xml version=\"1.0\" encoding=\"utf-8\"?>\n",
       "<svg xmlns=\"http://www.w3.org/2000/svg\" xmlns:xlink=\"http://www.w3.org/1999/xlink\" width=\"600\" height=\"400\" viewBox=\"0 0 2400 1600\">\n",
       "<defs>\n",
       "  <clipPath id=\"clip180\">\n",
       "    <rect x=\"0\" y=\"0\" width=\"2400\" height=\"1600\"/>\n",
       "  </clipPath>\n",
       "</defs>\n",
       "<path clip-path=\"url(#clip180)\" d=\"\n",
       "M0 1600 L2400 1600 L2400 0 L0 0  Z\n",
       "  \" fill=\"#ffffff\" fill-rule=\"evenodd\" fill-opacity=\"1\"/>\n",
       "<defs>\n",
       "  <clipPath id=\"clip181\">\n",
       "    <rect x=\"480\" y=\"0\" width=\"1681\" height=\"1600\"/>\n",
       "  </clipPath>\n",
       "</defs>\n",
       "<path clip-path=\"url(#clip180)\" d=\"\n",
       "M144.168 1486.45 L2352.76 1486.45 L2352.76 47.2441 L144.168 47.2441  Z\n",
       "  \" fill=\"#ffffff\" fill-rule=\"evenodd\" fill-opacity=\"1\"/>\n",
       "<defs>\n",
       "  <clipPath id=\"clip182\">\n",
       "    <rect x=\"144\" y=\"47\" width=\"2210\" height=\"1440\"/>\n",
       "  </clipPath>\n",
       "</defs>\n",
       "<polyline clip-path=\"url(#clip182)\" style=\"stroke:#000000; stroke-width:2; stroke-opacity:0.1; fill:none\" points=\"\n",
       "  202.499,1486.45 202.499,47.2441 \n",
       "  \"/>\n",
       "<polyline clip-path=\"url(#clip182)\" style=\"stroke:#000000; stroke-width:2; stroke-opacity:0.1; fill:none\" points=\"\n",
       "  620.049,1486.45 620.049,47.2441 \n",
       "  \"/>\n",
       "<polyline clip-path=\"url(#clip182)\" style=\"stroke:#000000; stroke-width:2; stroke-opacity:0.1; fill:none\" points=\"\n",
       "  1037.6,1486.45 1037.6,47.2441 \n",
       "  \"/>\n",
       "<polyline clip-path=\"url(#clip182)\" style=\"stroke:#000000; stroke-width:2; stroke-opacity:0.1; fill:none\" points=\"\n",
       "  1455.15,1486.45 1455.15,47.2441 \n",
       "  \"/>\n",
       "<polyline clip-path=\"url(#clip182)\" style=\"stroke:#000000; stroke-width:2; stroke-opacity:0.1; fill:none\" points=\"\n",
       "  1872.7,1486.45 1872.7,47.2441 \n",
       "  \"/>\n",
       "<polyline clip-path=\"url(#clip182)\" style=\"stroke:#000000; stroke-width:2; stroke-opacity:0.1; fill:none\" points=\"\n",
       "  2290.25,1486.45 2290.25,47.2441 \n",
       "  \"/>\n",
       "<polyline clip-path=\"url(#clip182)\" style=\"stroke:#000000; stroke-width:2; stroke-opacity:0.1; fill:none\" points=\"\n",
       "  144.168,1289.04 2352.76,1289.04 \n",
       "  \"/>\n",
       "<polyline clip-path=\"url(#clip182)\" style=\"stroke:#000000; stroke-width:2; stroke-opacity:0.1; fill:none\" points=\"\n",
       "  144.168,1071.15 2352.76,1071.15 \n",
       "  \"/>\n",
       "<polyline clip-path=\"url(#clip182)\" style=\"stroke:#000000; stroke-width:2; stroke-opacity:0.1; fill:none\" points=\"\n",
       "  144.168,853.262 2352.76,853.262 \n",
       "  \"/>\n",
       "<polyline clip-path=\"url(#clip182)\" style=\"stroke:#000000; stroke-width:2; stroke-opacity:0.1; fill:none\" points=\"\n",
       "  144.168,635.374 2352.76,635.374 \n",
       "  \"/>\n",
       "<polyline clip-path=\"url(#clip182)\" style=\"stroke:#000000; stroke-width:2; stroke-opacity:0.1; fill:none\" points=\"\n",
       "  144.168,417.485 2352.76,417.485 \n",
       "  \"/>\n",
       "<polyline clip-path=\"url(#clip182)\" style=\"stroke:#000000; stroke-width:2; stroke-opacity:0.1; fill:none\" points=\"\n",
       "  144.168,199.597 2352.76,199.597 \n",
       "  \"/>\n",
       "<polyline clip-path=\"url(#clip180)\" style=\"stroke:#000000; stroke-width:4; stroke-opacity:1; fill:none\" points=\"\n",
       "  144.168,1486.45 2352.76,1486.45 \n",
       "  \"/>\n",
       "<polyline clip-path=\"url(#clip180)\" style=\"stroke:#000000; stroke-width:4; stroke-opacity:1; fill:none\" points=\"\n",
       "  144.168,1486.45 144.168,47.2441 \n",
       "  \"/>\n",
       "<polyline clip-path=\"url(#clip180)\" style=\"stroke:#000000; stroke-width:4; stroke-opacity:1; fill:none\" points=\"\n",
       "  202.499,1486.45 202.499,1469.18 \n",
       "  \"/>\n",
       "<polyline clip-path=\"url(#clip180)\" style=\"stroke:#000000; stroke-width:4; stroke-opacity:1; fill:none\" points=\"\n",
       "  620.049,1486.45 620.049,1469.18 \n",
       "  \"/>\n",
       "<polyline clip-path=\"url(#clip180)\" style=\"stroke:#000000; stroke-width:4; stroke-opacity:1; fill:none\" points=\"\n",
       "  1037.6,1486.45 1037.6,1469.18 \n",
       "  \"/>\n",
       "<polyline clip-path=\"url(#clip180)\" style=\"stroke:#000000; stroke-width:4; stroke-opacity:1; fill:none\" points=\"\n",
       "  1455.15,1486.45 1455.15,1469.18 \n",
       "  \"/>\n",
       "<polyline clip-path=\"url(#clip180)\" style=\"stroke:#000000; stroke-width:4; stroke-opacity:1; fill:none\" points=\"\n",
       "  1872.7,1486.45 1872.7,1469.18 \n",
       "  \"/>\n",
       "<polyline clip-path=\"url(#clip180)\" style=\"stroke:#000000; stroke-width:4; stroke-opacity:1; fill:none\" points=\"\n",
       "  2290.25,1486.45 2290.25,1469.18 \n",
       "  \"/>\n",
       "<polyline clip-path=\"url(#clip180)\" style=\"stroke:#000000; stroke-width:4; stroke-opacity:1; fill:none\" points=\"\n",
       "  144.168,1289.04 170.671,1289.04 \n",
       "  \"/>\n",
       "<polyline clip-path=\"url(#clip180)\" style=\"stroke:#000000; stroke-width:4; stroke-opacity:1; fill:none\" points=\"\n",
       "  144.168,1071.15 170.671,1071.15 \n",
       "  \"/>\n",
       "<polyline clip-path=\"url(#clip180)\" style=\"stroke:#000000; stroke-width:4; stroke-opacity:1; fill:none\" points=\"\n",
       "  144.168,853.262 170.671,853.262 \n",
       "  \"/>\n",
       "<polyline clip-path=\"url(#clip180)\" style=\"stroke:#000000; stroke-width:4; stroke-opacity:1; fill:none\" points=\"\n",
       "  144.168,635.374 170.671,635.374 \n",
       "  \"/>\n",
       "<polyline clip-path=\"url(#clip180)\" style=\"stroke:#000000; stroke-width:4; stroke-opacity:1; fill:none\" points=\"\n",
       "  144.168,417.485 170.671,417.485 \n",
       "  \"/>\n",
       "<polyline clip-path=\"url(#clip180)\" style=\"stroke:#000000; stroke-width:4; stroke-opacity:1; fill:none\" points=\"\n",
       "  144.168,199.597 170.671,199.597 \n",
       "  \"/>\n",
       "<path clip-path=\"url(#clip180)\" d=\"M 0 0 M202.499 1508.44 Q198.888 1508.44 197.06 1512 Q195.254 1515.55 195.254 1522.67 Q195.254 1529.78 197.06 1533.35 Q198.888 1536.89 202.499 1536.89 Q206.134 1536.89 207.939 1533.35 Q209.768 1529.78 209.768 1522.67 Q209.768 1515.55 207.939 1512 Q206.134 1508.44 202.499 1508.44 M202.499 1504.73 Q208.31 1504.73 211.365 1509.34 Q214.444 1513.92 214.444 1522.67 Q214.444 1531.4 211.365 1536.01 Q208.31 1540.59 202.499 1540.59 Q196.689 1540.59 193.611 1536.01 Q190.555 1531.4 190.555 1522.67 Q190.555 1513.92 193.611 1509.34 Q196.689 1504.73 202.499 1504.73 Z\" fill=\"#000000\" fill-rule=\"evenodd\" fill-opacity=\"1\" /><path clip-path=\"url(#clip180)\" d=\"M 0 0 M583.418 1535.98 L591.056 1535.98 L591.056 1509.62 L582.746 1511.29 L582.746 1507.03 L591.01 1505.36 L595.686 1505.36 L595.686 1535.98 L603.325 1535.98 L603.325 1539.92 L583.418 1539.92 L583.418 1535.98 Z\" fill=\"#000000\" fill-rule=\"evenodd\" fill-opacity=\"1\" /><path clip-path=\"url(#clip180)\" d=\"M 0 0 M618.394 1508.44 Q614.783 1508.44 612.954 1512 Q611.149 1515.55 611.149 1522.67 Q611.149 1529.78 612.954 1533.35 Q614.783 1536.89 618.394 1536.89 Q622.028 1536.89 623.834 1533.35 Q625.663 1529.78 625.663 1522.67 Q625.663 1515.55 623.834 1512 Q622.028 1508.44 618.394 1508.44 M618.394 1504.73 Q624.204 1504.73 627.26 1509.34 Q630.339 1513.92 630.339 1522.67 Q630.339 1531.4 627.26 1536.01 Q624.204 1540.59 618.394 1540.59 Q612.584 1540.59 609.505 1536.01 Q606.45 1531.4 606.45 1522.67 Q606.45 1513.92 609.505 1509.34 Q612.584 1504.73 618.394 1504.73 Z\" fill=\"#000000\" fill-rule=\"evenodd\" fill-opacity=\"1\" /><path clip-path=\"url(#clip180)\" d=\"M 0 0 M645.408 1508.44 Q641.797 1508.44 639.968 1512 Q638.163 1515.55 638.163 1522.67 Q638.163 1529.78 639.968 1533.35 Q641.797 1536.89 645.408 1536.89 Q649.042 1536.89 650.848 1533.35 Q652.676 1529.78 652.676 1522.67 Q652.676 1515.55 650.848 1512 Q649.042 1508.44 645.408 1508.44 M645.408 1504.73 Q651.218 1504.73 654.274 1509.34 Q657.352 1513.92 657.352 1522.67 Q657.352 1531.4 654.274 1536.01 Q651.218 1540.59 645.408 1540.59 Q639.598 1540.59 636.519 1536.01 Q633.464 1531.4 633.464 1522.67 Q633.464 1513.92 636.519 1509.34 Q639.598 1504.73 645.408 1504.73 Z\" fill=\"#000000\" fill-rule=\"evenodd\" fill-opacity=\"1\" /><path clip-path=\"url(#clip180)\" d=\"M 0 0 M1005.24 1535.98 L1021.56 1535.98 L1021.56 1539.92 L999.613 1539.92 L999.613 1535.98 Q1002.28 1533.23 1006.86 1528.6 Q1011.47 1523.95 1012.65 1522.61 Q1014.89 1520.08 1015.77 1518.35 Q1016.67 1516.59 1016.67 1514.9 Q1016.67 1512.14 1014.73 1510.41 Q1012.81 1508.67 1009.71 1508.67 Q1007.51 1508.67 1005.05 1509.43 Q1002.62 1510.2 999.845 1511.75 L999.845 1507.03 Q1002.67 1505.89 1005.12 1505.31 Q1007.58 1504.73 1009.61 1504.73 Q1014.98 1504.73 1018.18 1507.42 Q1021.37 1510.11 1021.37 1514.6 Q1021.37 1516.73 1020.56 1518.65 Q1019.78 1520.54 1017.67 1523.14 Q1017.09 1523.81 1013.99 1527.03 Q1010.89 1530.22 1005.24 1535.98 Z\" fill=\"#000000\" fill-rule=\"evenodd\" fill-opacity=\"1\" /><path clip-path=\"url(#clip180)\" d=\"M 0 0 M1036.63 1508.44 Q1033.02 1508.44 1031.19 1512 Q1029.38 1515.55 1029.38 1522.67 Q1029.38 1529.78 1031.19 1533.35 Q1033.02 1536.89 1036.63 1536.89 Q1040.26 1536.89 1042.07 1533.35 Q1043.9 1529.78 1043.9 1522.67 Q1043.9 1515.55 1042.07 1512 Q1040.26 1508.44 1036.63 1508.44 M1036.63 1504.73 Q1042.44 1504.73 1045.49 1509.34 Q1048.57 1513.92 1048.57 1522.67 Q1048.57 1531.4 1045.49 1536.01 Q1042.44 1540.59 1036.63 1540.59 Q1030.82 1540.59 1027.74 1536.01 Q1024.68 1531.4 1024.68 1522.67 Q1024.68 1513.92 1027.74 1509.34 Q1030.82 1504.73 1036.63 1504.73 Z\" fill=\"#000000\" fill-rule=\"evenodd\" fill-opacity=\"1\" /><path clip-path=\"url(#clip180)\" d=\"M 0 0 M1063.64 1508.44 Q1060.03 1508.44 1058.2 1512 Q1056.4 1515.55 1056.4 1522.67 Q1056.4 1529.78 1058.2 1533.35 Q1060.03 1536.89 1063.64 1536.89 Q1067.27 1536.89 1069.08 1533.35 Q1070.91 1529.78 1070.91 1522.67 Q1070.91 1515.55 1069.08 1512 Q1067.27 1508.44 1063.64 1508.44 M1063.64 1504.73 Q1069.45 1504.73 1072.51 1509.34 Q1075.59 1513.92 1075.59 1522.67 Q1075.59 1531.4 1072.51 1536.01 Q1069.45 1540.59 1063.64 1540.59 Q1057.83 1540.59 1054.75 1536.01 Q1051.7 1531.4 1051.7 1522.67 Q1051.7 1513.92 1054.75 1509.34 Q1057.83 1504.73 1063.64 1504.73 Z\" fill=\"#000000\" fill-rule=\"evenodd\" fill-opacity=\"1\" /><path clip-path=\"url(#clip180)\" d=\"M 0 0 M1432.38 1521.29 Q1435.74 1522 1437.61 1524.27 Q1439.51 1526.54 1439.51 1529.87 Q1439.51 1534.99 1435.99 1537.79 Q1432.48 1540.59 1425.99 1540.59 Q1423.82 1540.59 1421.5 1540.15 Q1419.21 1539.73 1416.76 1538.88 L1416.76 1534.36 Q1418.7 1535.5 1421.02 1536.08 Q1423.33 1536.66 1425.86 1536.66 Q1430.25 1536.66 1432.54 1534.92 Q1434.86 1533.18 1434.86 1529.87 Q1434.86 1526.82 1432.71 1525.11 Q1430.58 1523.37 1426.76 1523.37 L1422.73 1523.37 L1422.73 1519.53 L1426.94 1519.53 Q1430.39 1519.53 1432.22 1518.16 Q1434.05 1516.77 1434.05 1514.18 Q1434.05 1511.52 1432.15 1510.11 Q1430.28 1508.67 1426.76 1508.67 Q1424.84 1508.67 1422.64 1509.09 Q1420.44 1509.5 1417.8 1510.38 L1417.8 1506.22 Q1420.46 1505.48 1422.78 1505.11 Q1425.11 1504.73 1427.17 1504.73 Q1432.5 1504.73 1435.6 1507.17 Q1438.7 1509.57 1438.7 1513.69 Q1438.7 1516.56 1437.06 1518.55 Q1435.42 1520.52 1432.38 1521.29 Z\" fill=\"#000000\" fill-rule=\"evenodd\" fill-opacity=\"1\" /><path clip-path=\"url(#clip180)\" d=\"M 0 0 M1454.58 1508.44 Q1450.97 1508.44 1449.14 1512 Q1447.34 1515.55 1447.34 1522.67 Q1447.34 1529.78 1449.14 1533.35 Q1450.97 1536.89 1454.58 1536.89 Q1458.22 1536.89 1460.02 1533.35 Q1461.85 1529.78 1461.85 1522.67 Q1461.85 1515.55 1460.02 1512 Q1458.22 1508.44 1454.58 1508.44 M1454.58 1504.73 Q1460.39 1504.73 1463.45 1509.34 Q1466.53 1513.92 1466.53 1522.67 Q1466.53 1531.4 1463.45 1536.01 Q1460.39 1540.59 1454.58 1540.59 Q1448.77 1540.59 1445.69 1536.01 Q1442.64 1531.4 1442.64 1522.67 Q1442.64 1513.92 1445.69 1509.34 Q1448.77 1504.73 1454.58 1504.73 Z\" fill=\"#000000\" fill-rule=\"evenodd\" fill-opacity=\"1\" /><path clip-path=\"url(#clip180)\" d=\"M 0 0 M1481.6 1508.44 Q1477.98 1508.44 1476.16 1512 Q1474.35 1515.55 1474.35 1522.67 Q1474.35 1529.78 1476.16 1533.35 Q1477.98 1536.89 1481.6 1536.89 Q1485.23 1536.89 1487.04 1533.35 Q1488.86 1529.78 1488.86 1522.67 Q1488.86 1515.55 1487.04 1512 Q1485.23 1508.44 1481.6 1508.44 M1481.6 1504.73 Q1487.41 1504.73 1490.46 1509.34 Q1493.54 1513.92 1493.54 1522.67 Q1493.54 1531.4 1490.46 1536.01 Q1487.41 1540.59 1481.6 1540.59 Q1475.79 1540.59 1472.71 1536.01 Q1469.65 1531.4 1469.65 1522.67 Q1469.65 1513.92 1472.71 1509.34 Q1475.79 1504.73 1481.6 1504.73 Z\" fill=\"#000000\" fill-rule=\"evenodd\" fill-opacity=\"1\" /><path clip-path=\"url(#clip180)\" d=\"M 0 0 M1848.69 1509.43 L1836.89 1527.88 L1848.69 1527.88 L1848.69 1509.43 M1847.47 1505.36 L1853.35 1505.36 L1853.35 1527.88 L1858.28 1527.88 L1858.28 1531.77 L1853.35 1531.77 L1853.35 1539.92 L1848.69 1539.92 L1848.69 1531.77 L1833.09 1531.77 L1833.09 1527.26 L1847.47 1505.36 Z\" fill=\"#000000\" fill-rule=\"evenodd\" fill-opacity=\"1\" /><path clip-path=\"url(#clip180)\" d=\"M 0 0 M1873.35 1508.44 Q1869.74 1508.44 1867.91 1512 Q1866.1 1515.55 1866.1 1522.67 Q1866.1 1529.78 1867.91 1533.35 Q1869.74 1536.89 1873.35 1536.89 Q1876.98 1536.89 1878.79 1533.35 Q1880.62 1529.78 1880.62 1522.67 Q1880.62 1515.55 1878.79 1512 Q1876.98 1508.44 1873.35 1508.44 M1873.35 1504.73 Q1879.16 1504.73 1882.21 1509.34 Q1885.29 1513.92 1885.29 1522.67 Q1885.29 1531.4 1882.21 1536.01 Q1879.16 1540.59 1873.35 1540.59 Q1867.54 1540.59 1864.46 1536.01 Q1861.4 1531.4 1861.4 1522.67 Q1861.4 1513.92 1864.46 1509.34 Q1867.54 1504.73 1873.35 1504.73 Z\" fill=\"#000000\" fill-rule=\"evenodd\" fill-opacity=\"1\" /><path clip-path=\"url(#clip180)\" d=\"M 0 0 M1900.36 1508.44 Q1896.75 1508.44 1894.92 1512 Q1893.12 1515.55 1893.12 1522.67 Q1893.12 1529.78 1894.92 1533.35 Q1896.75 1536.89 1900.36 1536.89 Q1903.99 1536.89 1905.8 1533.35 Q1907.63 1529.78 1907.63 1522.67 Q1907.63 1515.55 1905.8 1512 Q1903.99 1508.44 1900.36 1508.44 M1900.36 1504.73 Q1906.17 1504.73 1909.23 1509.34 Q1912.31 1513.92 1912.31 1522.67 Q1912.31 1531.4 1909.23 1536.01 Q1906.17 1540.59 1900.36 1540.59 Q1894.55 1540.59 1891.47 1536.01 Q1888.42 1531.4 1888.42 1522.67 Q1888.42 1513.92 1891.47 1509.34 Q1894.55 1504.73 1900.36 1504.73 Z\" fill=\"#000000\" fill-rule=\"evenodd\" fill-opacity=\"1\" /><path clip-path=\"url(#clip180)\" d=\"M 0 0 M2253.51 1505.36 L2271.87 1505.36 L2271.87 1509.3 L2257.8 1509.3 L2257.8 1517.77 Q2258.81 1517.42 2259.83 1517.26 Q2260.85 1517.07 2261.87 1517.07 Q2267.66 1517.07 2271.04 1520.24 Q2274.42 1523.42 2274.42 1528.83 Q2274.42 1534.41 2270.94 1537.51 Q2267.47 1540.59 2261.15 1540.59 Q2258.98 1540.59 2256.71 1540.22 Q2254.46 1539.85 2252.05 1539.11 L2252.05 1534.41 Q2254.14 1535.54 2256.36 1536.1 Q2258.58 1536.66 2261.06 1536.66 Q2265.06 1536.66 2267.4 1534.55 Q2269.74 1532.44 2269.74 1528.83 Q2269.74 1525.22 2267.4 1523.11 Q2265.06 1521.01 2261.06 1521.01 Q2259.18 1521.01 2257.31 1521.42 Q2255.46 1521.84 2253.51 1522.72 L2253.51 1505.36 Z\" fill=\"#000000\" fill-rule=\"evenodd\" fill-opacity=\"1\" /><path clip-path=\"url(#clip180)\" d=\"M 0 0 M2289.48 1508.44 Q2285.87 1508.44 2284.05 1512 Q2282.24 1515.55 2282.24 1522.67 Q2282.24 1529.78 2284.05 1533.35 Q2285.87 1536.89 2289.48 1536.89 Q2293.12 1536.89 2294.92 1533.35 Q2296.75 1529.78 2296.75 1522.67 Q2296.75 1515.55 2294.92 1512 Q2293.12 1508.44 2289.48 1508.44 M2289.48 1504.73 Q2295.29 1504.73 2298.35 1509.34 Q2301.43 1513.92 2301.43 1522.67 Q2301.43 1531.4 2298.35 1536.01 Q2295.29 1540.59 2289.48 1540.59 Q2283.67 1540.59 2280.6 1536.01 Q2277.54 1531.4 2277.54 1522.67 Q2277.54 1513.92 2280.6 1509.34 Q2283.67 1504.73 2289.48 1504.73 Z\" fill=\"#000000\" fill-rule=\"evenodd\" fill-opacity=\"1\" /><path clip-path=\"url(#clip180)\" d=\"M 0 0 M2316.5 1508.44 Q2312.89 1508.44 2311.06 1512 Q2309.25 1515.55 2309.25 1522.67 Q2309.25 1529.78 2311.06 1533.35 Q2312.89 1536.89 2316.5 1536.89 Q2320.13 1536.89 2321.94 1533.35 Q2323.77 1529.78 2323.77 1522.67 Q2323.77 1515.55 2321.94 1512 Q2320.13 1508.44 2316.5 1508.44 M2316.5 1504.73 Q2322.31 1504.73 2325.36 1509.34 Q2328.44 1513.92 2328.44 1522.67 Q2328.44 1531.4 2325.36 1536.01 Q2322.31 1540.59 2316.5 1540.59 Q2310.69 1540.59 2307.61 1536.01 Q2304.55 1531.4 2304.55 1522.67 Q2304.55 1513.92 2307.61 1509.34 Q2310.69 1504.73 2316.5 1504.73 Z\" fill=\"#000000\" fill-rule=\"evenodd\" fill-opacity=\"1\" /><path clip-path=\"url(#clip180)\" d=\"M 0 0 M63.3162 1289.49 L92.992 1289.49 L92.992 1293.42 L63.3162 1293.42 L63.3162 1289.49 Z\" fill=\"#000000\" fill-rule=\"evenodd\" fill-opacity=\"1\" /><path clip-path=\"url(#clip180)\" d=\"M 0 0 M108.64 1287.17 Q105.492 1287.17 103.64 1289.33 Q101.811 1291.48 101.811 1295.23 Q101.811 1298.96 103.64 1301.13 Q105.492 1303.29 108.64 1303.29 Q111.788 1303.29 113.617 1301.13 Q115.469 1298.96 115.469 1295.23 Q115.469 1291.48 113.617 1289.33 Q111.788 1287.17 108.64 1287.17 M117.922 1272.52 L117.922 1276.78 Q116.163 1275.95 114.358 1275.51 Q112.575 1275.07 110.816 1275.07 Q106.186 1275.07 103.733 1278.19 Q101.302 1281.32 100.955 1287.64 Q102.321 1285.62 104.381 1284.56 Q106.441 1283.47 108.918 1283.47 Q114.126 1283.47 117.135 1286.64 Q120.168 1289.79 120.168 1295.23 Q120.168 1300.55 117.02 1303.77 Q113.871 1306.99 108.64 1306.99 Q102.645 1306.99 99.4734 1302.41 Q96.3021 1297.8 96.3021 1289.07 Q96.3021 1280.88 100.191 1276.02 Q104.08 1271.13 110.631 1271.13 Q112.39 1271.13 114.172 1271.48 Q115.978 1271.83 117.922 1272.52 Z\" fill=\"#000000\" fill-rule=\"evenodd\" fill-opacity=\"1\" /><path clip-path=\"url(#clip180)\" d=\"M 0 0 M62.9921 1071.6 L92.6679 1071.6 L92.6679 1075.54 L62.9921 1075.54 L62.9921 1071.6 Z\" fill=\"#000000\" fill-rule=\"evenodd\" fill-opacity=\"1\" /><path clip-path=\"url(#clip180)\" d=\"M 0 0 M110.584 1057.94 L98.779 1076.39 L110.584 1076.39 L110.584 1057.94 M109.358 1053.87 L115.237 1053.87 L115.237 1076.39 L120.168 1076.39 L120.168 1080.28 L115.237 1080.28 L115.237 1088.43 L110.584 1088.43 L110.584 1080.28 L94.9827 1080.28 L94.9827 1075.77 L109.358 1053.87 Z\" fill=\"#000000\" fill-rule=\"evenodd\" fill-opacity=\"1\" /><path clip-path=\"url(#clip180)\" d=\"M 0 0 M65.0754 853.713 L94.7512 853.713 L94.7512 857.648 L65.0754 857.648 L65.0754 853.713 Z\" fill=\"#000000\" fill-rule=\"evenodd\" fill-opacity=\"1\" /><path clip-path=\"url(#clip180)\" d=\"M 0 0 M103.848 866.607 L120.168 866.607 L120.168 870.542 L98.2234 870.542 L98.2234 866.607 Q100.885 863.852 105.469 859.222 Q110.075 854.57 111.256 853.227 Q113.501 850.704 114.381 848.968 Q115.284 847.209 115.284 845.519 Q115.284 842.764 113.339 841.028 Q111.418 839.292 108.316 839.292 Q106.117 839.292 103.663 840.056 Q101.233 840.82 98.4549 842.371 L98.4549 837.649 Q101.279 836.514 103.733 835.936 Q106.186 835.357 108.223 835.357 Q113.594 835.357 116.788 838.042 Q119.983 840.727 119.983 845.218 Q119.983 847.348 119.172 849.269 Q118.385 851.167 116.279 853.76 Q115.7 854.431 112.598 857.648 Q109.497 860.843 103.848 866.607 Z\" fill=\"#000000\" fill-rule=\"evenodd\" fill-opacity=\"1\" /><path clip-path=\"url(#clip180)\" d=\"M 0 0 M108.223 621.172 Q104.612 621.172 102.784 624.737 Q100.978 628.279 100.978 635.408 Q100.978 642.515 102.784 646.08 Q104.612 649.621 108.223 649.621 Q111.858 649.621 113.663 646.08 Q115.492 642.515 115.492 635.408 Q115.492 628.279 113.663 624.737 Q111.858 621.172 108.223 621.172 M108.223 617.469 Q114.034 617.469 117.089 622.075 Q120.168 626.658 120.168 635.408 Q120.168 644.135 117.089 648.742 Q114.034 653.325 108.223 653.325 Q102.413 653.325 99.3345 648.742 Q96.279 644.135 96.279 635.408 Q96.279 626.658 99.3345 622.075 Q102.413 617.469 108.223 617.469 Z\" fill=\"#000000\" fill-rule=\"evenodd\" fill-opacity=\"1\" /><path clip-path=\"url(#clip180)\" d=\"M 0 0 M103.848 430.83 L120.168 430.83 L120.168 434.765 L98.2234 434.765 L98.2234 430.83 Q100.885 428.076 105.469 423.446 Q110.075 418.793 111.256 417.451 Q113.501 414.928 114.381 413.191 Q115.284 411.432 115.284 409.742 Q115.284 406.988 113.339 405.252 Q111.418 403.516 108.316 403.516 Q106.117 403.516 103.663 404.279 Q101.233 405.043 98.4549 406.594 L98.4549 401.872 Q101.279 400.738 103.733 400.159 Q106.186 399.58 108.223 399.58 Q113.594 399.58 116.788 402.266 Q119.983 404.951 119.983 409.441 Q119.983 411.571 119.172 413.492 Q118.385 415.391 116.279 417.983 Q115.7 418.654 112.598 421.872 Q109.497 425.066 103.848 430.83 Z\" fill=\"#000000\" fill-rule=\"evenodd\" fill-opacity=\"1\" /><path clip-path=\"url(#clip180)\" d=\"M 0 0 M110.584 186.391 L98.779 204.84 L110.584 204.84 L110.584 186.391 M109.358 182.317 L115.237 182.317 L115.237 204.84 L120.168 204.84 L120.168 208.729 L115.237 208.729 L115.237 216.877 L110.584 216.877 L110.584 208.729 L94.9827 208.729 L94.9827 204.215 L109.358 182.317 Z\" fill=\"#000000\" fill-rule=\"evenodd\" fill-opacity=\"1\" /><polyline clip-path=\"url(#clip182)\" style=\"stroke:#009af9; stroke-width:4; stroke-opacity:1; fill:none\" points=\"\n",
       "  206.675,634.697 210.85,590.343 215.026,539.13 219.201,504.864 223.377,538.767 227.552,484.971 231.728,491.364 235.903,519.737 240.079,529.408 244.254,538.723 \n",
       "  248.43,545.809 252.605,588.53 256.781,639.991 260.956,632.951 265.132,684.209 269.307,705.414 273.483,730.04 277.658,776.052 281.834,746.683 286.009,753.304 \n",
       "  290.185,749.174 294.36,790.397 298.536,789.892 302.711,829.546 306.887,880.643 311.062,917.198 315.238,942.873 319.413,986.723 323.589,950.711 327.764,927.13 \n",
       "  331.94,921.946 336.115,938.65 340.291,973.834 344.466,1023.56 348.642,1062.24 352.817,1069.97 356.993,1118.43 361.168,1104.24 365.344,1139.61 369.519,1159.7 \n",
       "  373.695,1197.81 377.87,1204.4 382.046,1167.76 386.221,1122.27 390.397,1083.72 394.572,1081.07 398.748,1128.68 402.923,1182.8 407.099,1200.12 411.274,1146.81 \n",
       "  415.45,1197.66 419.625,1232.46 423.801,1274.54 427.976,1250.97 432.152,1253.15 436.327,1236.57 440.503,1254.93 444.678,1291.43 448.854,1275.99 453.029,1326.22 \n",
       "  457.205,1304.77 461.38,1265.95 465.556,1300.14 469.731,1273.43 473.907,1244.63 478.082,1238.91 482.258,1269.34 486.433,1242.45 490.609,1253.99 494.784,1276.02 \n",
       "  498.96,1270.87 503.135,1235.33 507.311,1249.78 511.486,1261.4 515.662,1207.87 519.837,1233.7 524.013,1240.47 528.188,1247.87 532.364,1239.71 536.539,1227.92 \n",
       "  540.715,1192.13 544.89,1182.53 549.066,1200.5 553.241,1192.73 557.417,1182.98 561.592,1158.6 565.768,1181.99 569.943,1146.23 574.119,1119.11 578.294,1139.13 \n",
       "  582.47,1152.85 586.645,1144.09 590.821,1186.13 594.996,1162.34 599.172,1144.89 603.347,1091.38 607.523,1128.12 611.698,1097.24 615.874,1068.44 620.049,1029.91 \n",
       "  624.225,1001.16 628.4,1043.78 632.576,1068.4 636.751,1057.33 640.927,1109.62 645.102,1067.92 649.278,1027.91 653.453,1006.5 657.629,1004.74 661.804,970.447 \n",
       "  665.98,973.498 670.155,995.13 674.331,984.851 678.506,1002.34 682.682,1024.35 686.857,1052 691.033,1005.48 695.208,1016.64 699.384,981.944 703.559,1017.64 \n",
       "  707.735,970.556 711.91,931.759 716.086,977.821 720.261,994.405 724.437,947.256 728.612,955.105 732.788,913.572 736.963,924.626 741.139,906.546 745.314,873.891 \n",
       "  749.49,849.112 753.665,809.838 757.841,795.655 762.016,784.002 766.192,797.541 770.367,763.905 774.543,718.446 778.718,678.194 782.894,681.109 787.069,632.588 \n",
       "  791.245,642.067 795.42,677.824 799.596,712.274 803.771,708.861 807.947,748.135 812.122,767.557 816.298,744.081 820.473,742.594 824.649,755.69 828.824,768.428 \n",
       "  833,721.383 837.175,728.687 841.351,752.765 845.526,738.833 849.702,749.206 853.877,795.336 858.053,812.963 862.228,836.803 866.404,851.943 870.579,806.062 \n",
       "  874.755,843.832 878.93,893.041 883.106,892.657 887.281,894.381 891.457,900.468 895.632,898.206 899.808,887.451 903.983,881.098 908.159,870.911 912.334,923.664 \n",
       "  916.51,886.053 920.685,929.501 924.861,941.913 929.036,987.41 933.212,1036.38 937.387,1082.66 941.563,1048.47 945.738,1024.6 949.914,1039.68 954.089,1080.93 \n",
       "  958.265,1099.09 962.44,1066.61 966.616,1098.36 970.791,1097.46 974.967,1082.53 979.142,1064.08 983.318,1045.28 987.493,1014.85 991.669,1034.77 995.844,1038.9 \n",
       "  1000.02,1043.71 1004.2,1082.82 1008.37,1085.06 1012.55,1045.68 1016.72,1088.45 1020.9,1067.41 1025.07,1057.87 1029.25,1023 1033.42,1005.72 1037.6,1040.56 \n",
       "  1041.77,1061.01 1045.95,1047 1050.13,1085.42 1054.3,1122.72 1058.48,1091.1 1062.65,1098.78 1066.83,1124.88 1071,1150.71 1075.18,1100.45 1079.35,1102.97 \n",
       "  1083.53,1110.07 1087.71,1109.95 1091.88,1068.19 1096.06,1025.48 1100.23,1064.51 1104.41,1020.13 1108.58,999.585 1112.76,1005.68 1116.93,1007.78 1121.11,1059.83 \n",
       "  1125.28,1018.96 1129.46,1057.01 1133.64,1013.88 1137.81,1017.43 1141.99,970.077 1146.16,1011.86 1150.34,1056.11 1154.51,1035.51 1158.69,997.423 1162.86,999.534 \n",
       "  1167.04,985.861 1171.22,990.477 1175.39,992.774 1179.57,1041.85 1183.74,991.351 1187.92,975.959 1192.09,929.472 1196.27,913.319 1200.44,953.826 1204.62,955.527 \n",
       "  1208.79,919.175 1212.97,966.872 1217.15,917.096 1221.32,864.706 1225.5,882.652 1229.67,925.853 1233.85,971.993 1238.02,952.873 1242.2,914.336 1246.37,918.284 \n",
       "  1250.55,948.373 1254.73,995.821 1258.9,992.534 1263.08,962.312 1267.25,964.098 1271.43,959.652 1275.6,992.014 1279.78,956.638 1283.95,919.962 1288.13,895.887 \n",
       "  1292.3,858.302 1296.48,850.466 1300.66,841.628 1304.83,789.696 1309.01,767.302 1313.18,761.494 1317.36,729.69 1321.53,745.852 1325.71,724.097 1329.88,756.898 \n",
       "  1334.06,743.352 1338.24,717.4 1342.41,768.121 1346.59,778.407 1350.76,762.685 1354.94,782.161 1359.11,778.61 1363.29,817.771 1367.46,786.466 1371.64,804.063 \n",
       "  1375.81,760.636 1379.99,809.622 1384.17,772.387 1388.34,757.891 1392.52,738.654 1396.69,762.505 1400.87,735.884 1405.04,753.407 1409.22,754.009 1413.39,714.447 \n",
       "  1417.57,746.323 1421.75,724.358 1425.92,771.898 1430.1,811.414 1434.27,814.987 1438.45,792.507 1442.62,799.624 1446.8,769.201 1450.97,741.07 1455.15,751.977 \n",
       "  1459.32,778.674 1463.5,750.116 1467.68,696.873 1471.85,736.931 1476.03,716.537 1480.2,717.334 1484.38,691.414 1488.55,723.723 1492.73,730.041 1496.9,751.385 \n",
       "  1501.08,707.744 1505.25,663.73 1509.43,707.664 1513.61,672.985 1517.78,703.537 1521.96,680.373 1526.13,703.678 1530.31,685.497 1534.48,637.683 1538.66,617.112 \n",
       "  1542.83,658.068 1547.01,613.525 1551.19,638.595 1555.36,673.933 1559.54,672.071 1563.71,642.15 1567.89,649.31 1572.06,670.581 1576.24,696.55 1580.41,732.066 \n",
       "  1584.59,714.932 1588.76,726.315 1592.94,701.096 1597.12,734.582 1601.29,733.514 1605.47,754.279 1609.64,721.342 1613.82,680.39 1617.99,649.546 1622.17,613.529 \n",
       "  1626.34,629.205 1630.52,674.081 1634.7,627.69 1638.87,679.164 1643.05,634.255 1647.22,671.68 1651.4,688.074 1655.57,732.722 1659.75,693.909 1663.92,684.876 \n",
       "  1668.1,716.519 1672.27,752.21 1676.45,781.012 1680.63,828.185 1684.8,863.391 1688.98,809.232 1693.15,784.692 1697.33,789.379 1701.5,796.74 1705.68,795.168 \n",
       "  1709.85,831.875 1714.03,864.797 1718.21,825.155 1722.38,780.003 1726.56,816.06 1730.73,823.216 1734.91,799.837 1739.08,808.453 1743.26,821.895 1747.43,869.955 \n",
       "  1751.61,823.572 1755.78,870.541 1759.96,924.86 1764.14,886.918 1768.31,861.55 1772.49,888.631 1776.66,896.38 1780.84,867.345 1785.01,850.378 1789.19,831.557 \n",
       "  1793.36,783.409 1797.54,748.972 1801.72,781.087 1805.89,785.926 1810.07,753.728 1814.24,804.105 1818.42,818.787 1822.59,870.282 1826.77,884.253 1830.94,848.006 \n",
       "  1835.12,879.345 1839.29,915.451 1843.47,886.906 1847.65,875.819 1851.82,889.765 1856,937.997 1860.17,909.875 1864.35,900.485 1868.52,919.435 1872.7,949.598 \n",
       "  1876.87,970.699 1881.05,976.391 1885.23,969.209 1889.4,936.31 1893.58,954.029 1897.75,953.263 1901.93,934.738 1906.1,913.229 1910.28,867.677 1914.45,907.865 \n",
       "  1918.63,875.48 1922.8,840.411 1926.98,880.471 1931.16,889.788 1935.33,884.248 1939.51,890.325 1943.68,864.607 1947.86,881.926 1952.03,915.879 1956.21,876.246 \n",
       "  1960.38,846.455 1964.56,833.324 1968.74,869.52 1972.91,895.477 1977.09,859.309 1981.26,882.497 1985.44,871.628 1989.61,925.933 1993.79,937.564 1997.96,944.156 \n",
       "  2002.14,936.816 2006.31,944.145 2010.49,927.142 2014.67,899.962 2018.84,929.762 2023.02,932.907 2027.19,926.989 2031.37,894.898 2035.54,945.62 2039.72,968.172 \n",
       "  2043.89,974.238 2048.07,1010.77 2052.25,1032.54 2056.42,983.405 2060.6,945.078 2064.77,935.864 2068.95,917.371 2073.12,955.589 2077.3,1004.52 2081.47,1045.41 \n",
       "  2085.65,1014.08 2089.82,964.226 2094,939.447 2098.18,949.024 2102.35,972.029 2106.53,962.787 2110.7,936.234 2114.88,988.029 2119.05,1036.99 2123.23,1069.95 \n",
       "  2127.4,1123.36 2131.58,1105.08 2135.76,1119.85 2139.93,1148.32 2144.11,1145.69 2148.28,1103.79 2152.46,1126.42 2156.63,1106.11 2160.81,1113.37 2164.98,1124.46 \n",
       "  2169.16,1123.91 2173.33,1114.57 2177.51,1075.57 2181.69,1097.91 2185.86,1152.38 2190.04,1203.37 2194.21,1247.59 2198.39,1299.99 2202.56,1325.88 2206.74,1376.01 \n",
       "  2210.91,1370.03 2215.09,1409.93 2219.27,1445.72 2223.44,1436.75 2227.62,1431.94 2231.79,1443.94 2235.97,1422.26 2240.14,1394.84 2244.32,1401.39 2248.49,1351.79 \n",
       "  2252.67,1364.4 2256.84,1411.75 2261.02,1402.33 2265.2,1356.15 2269.37,1312.88 2273.55,1312.81 2277.72,1264.79 2281.9,1229.16 2286.07,1199.2 2290.25,1156.93 \n",
       "  \n",
       "  \"/>\n",
       "<polyline clip-path=\"url(#clip182)\" style=\"stroke:#e26f46; stroke-width:4; stroke-opacity:1; fill:none\" points=\"\n",
       "  206.675,629.868 210.85,598.137 215.026,544.119 219.201,493.046 223.377,511.193 227.552,525.2 231.728,482.799 235.903,479.944 240.079,489.891 244.254,499.808 \n",
       "  248.43,509.089 252.605,558.724 256.781,602.085 260.956,649.757 265.132,663.775 269.307,638 273.483,615.966 277.658,613.776 281.834,570.072 286.009,602.516 \n",
       "  290.185,609.998 294.36,595.986 298.536,565.214 302.711,607.116 306.887,564.242 311.062,520.587 315.238,521.957 319.413,525.175 323.589,538.814 327.764,537.442 \n",
       "  331.94,484.968 336.115,430.531 340.291,422.664 344.466,419.171 348.642,427.239 352.817,422.047 356.993,407.09 361.168,396.283 365.344,418.755 369.519,376.144 \n",
       "  373.695,389.823 377.87,346.134 382.046,369.938 386.221,318.908 390.397,307.499 394.572,304.955 398.748,282.051 402.923,258.592 407.099,272.404 411.274,284.696 \n",
       "  415.45,269.083 419.625,306.825 423.801,317.787 427.976,272.936 432.152,265.484 436.327,226.534 440.503,212.24 444.678,230.755 448.854,216.614 453.029,253.22 \n",
       "  457.205,294.03 461.38,262.064 465.556,235.989 469.731,277.063 473.907,240.336 478.082,272.952 482.258,283.031 486.433,308.184 490.609,341.202 494.784,385.388 \n",
       "  498.96,397.069 503.135,438.423 507.311,433.62 511.486,402.77 515.662,455.495 519.837,473.209 524.013,464.099 528.188,451.38 532.364,458.138 536.539,413.619 \n",
       "  540.715,424.465 544.89,456.384 549.066,478.067 553.241,471.167 557.417,521.621 561.592,564.76 565.768,613.073 569.943,636.754 574.119,619.542 578.294,572.93 \n",
       "  582.47,583.101 586.645,543.904 590.821,523.413 594.996,554.923 599.172,532.744 603.347,534.858 607.523,530.096 611.698,502.834 615.874,486.044 620.049,478.019 \n",
       "  624.225,500.377 628.4,498.401 632.576,521.51 636.751,571.72 640.927,530.379 645.102,484.417 649.278,468.723 653.453,502.072 657.629,503.375 661.804,509.576 \n",
       "  665.98,541.82 670.155,503.146 674.331,514.441 678.506,512.774 682.682,551.786 686.857,535.577 691.033,552.891 695.208,575.56 699.384,567.521 703.559,518.412 \n",
       "  707.735,482.427 711.91,488.185 716.086,453.649 720.261,439.137 724.437,477.038 728.612,503.173 732.788,480.864 736.963,429.705 741.139,403.477 745.314,449.949 \n",
       "  749.49,404.589 753.665,350.514 757.841,310.749 762.016,333.781 766.192,356.365 770.367,400.233 774.543,418.008 778.718,417.999 782.894,442.91 787.069,391.749 \n",
       "  791.245,364.37 795.42,346.044 799.596,358.161 803.771,335.282 807.947,381.418 812.122,329.441 816.298,305.993 820.473,307.308 824.649,275.445 828.824,293.5 \n",
       "  833,295.095 837.175,299.607 841.351,300.198 845.526,308.398 849.702,270.084 853.877,299.896 858.053,314.713 862.228,332.683 866.404,354.476 870.579,383.198 \n",
       "  874.755,414.343 878.93,420.247 883.106,392.661 887.281,439.999 891.457,484.811 895.632,534.079 899.808,481.06 903.983,468.921 908.159,436.696 912.334,403.148 \n",
       "  916.51,436.693 920.685,449.583 924.861,425.385 929.036,428.587 933.212,478.361 937.387,448.892 941.563,415.815 945.738,433.004 949.914,402.717 954.089,439.516 \n",
       "  958.265,409.681 962.44,357.526 966.616,335.096 970.791,283.295 974.967,296.252 979.142,337.389 983.318,314.31 987.493,338.8 991.669,327.033 995.844,276.619 \n",
       "  1000.02,222.426 1004.2,198.86 1008.37,241.806 1012.55,245.663 1016.72,227.676 1020.9,181.651 1025.07,161.375 1029.25,152.349 1033.42,196.618 1037.6,214.091 \n",
       "  1041.77,197.052 1045.95,216.97 1050.13,248.169 1054.3,271.154 1058.48,244.26 1062.65,254.66 1066.83,272.423 1071,308.303 1075.18,258.505 1079.35,309.133 \n",
       "  1083.53,311.179 1087.71,285.928 1091.88,266.417 1096.06,296.786 1100.23,244.236 1104.41,196.197 1108.58,153.29 1112.76,141.854 1116.93,135.746 1121.11,134.009 \n",
       "  1125.28,113.843 1129.46,129.598 1133.64,169.72 1137.81,155.701 1141.99,198.609 1146.16,227.309 1150.34,197.246 1154.51,243.95 1158.69,275.598 1162.86,256.203 \n",
       "  1167.04,296.47 1171.22,294.205 1175.39,295.147 1179.57,289.222 1183.74,327.718 1187.92,314.925 1192.09,365.799 1196.27,323.872 1200.44,296.948 1204.62,254.911 \n",
       "  1208.79,251.409 1212.97,205.405 1217.15,186.423 1221.32,229.155 1225.5,277.556 1229.67,313.838 1233.85,351.744 1238.02,307.27 1242.2,343.094 1246.37,382.872 \n",
       "  1250.55,434.51 1254.73,442.571 1258.9,409.694 1263.08,402.203 1267.25,447.956 1271.43,418.513 1275.6,437.14 1279.78,388.525 1283.95,384.122 1288.13,412.347 \n",
       "  1292.3,388.064 1296.48,378.178 1300.66,408.127 1304.83,386.078 1309.01,390.727 1313.18,391.064 1317.36,425.086 1321.53,402.69 1325.71,362.22 1329.88,353.808 \n",
       "  1334.06,324.247 1338.24,280.938 1342.41,236.188 1346.59,222.846 1350.76,236.961 1354.94,218.968 1359.11,244.722 1363.29,231.234 1367.46,239.639 1371.64,200.113 \n",
       "  1375.81,149.707 1379.99,202.955 1384.17,216.301 1388.34,250.583 1392.52,247.854 1396.69,207.357 1400.87,261.464 1405.04,264.968 1409.22,232.465 1413.39,204.884 \n",
       "  1417.57,216.183 1421.75,236.823 1425.92,187.228 1430.1,165.249 1434.27,127.259 1438.45,100.402 1442.62,109.62 1446.8,115.629 1450.97,97.6028 1455.15,87.9763 \n",
       "  1459.32,112.569 1463.5,150.384 1467.68,168.086 1471.85,141.931 1476.03,175.134 1480.2,190.559 1484.38,158.337 1488.55,205.607 1492.73,219.224 1496.9,175.463 \n",
       "  1501.08,222.903 1505.25,191.83 1509.43,235.952 1513.61,189.868 1517.78,168.726 1521.96,205.063 1526.13,175.651 1530.31,162.423 1534.48,174.411 1538.66,178.666 \n",
       "  1542.83,177.354 1547.01,159.047 1551.19,207.649 1555.36,203.989 1559.54,181.465 1563.71,208.894 1567.89,205.217 1572.06,228.45 1576.24,226.256 1580.41,241.691 \n",
       "  1584.59,294.122 1588.76,292.128 1592.94,316.168 1597.12,283.933 1601.29,311.244 1605.47,363.34 1609.64,355.656 1613.82,313.078 1617.99,338.869 1622.17,344.381 \n",
       "  1626.34,378.521 1630.52,333.995 1634.7,310.467 1638.87,298.912 1643.05,268.46 1647.22,274.409 1651.4,322.611 1655.57,291.915 1659.75,297.198 1663.92,258.041 \n",
       "  1668.1,280.797 1672.27,272.142 1676.45,326.271 1680.63,375.988 1684.8,393.703 1688.98,364.106 1693.15,317.93 1697.33,366.909 1701.5,419.939 1705.68,377.151 \n",
       "  1709.85,378.304 1714.03,354.469 1718.21,387.076 1722.38,416.644 1726.56,454.768 1730.73,490.953 1734.91,490.037 1739.08,471.553 1743.26,511.945 1747.43,548.682 \n",
       "  1751.61,520.342 1755.78,526.506 1759.96,500.375 1764.14,492.856 1768.31,528.847 1772.49,565.421 1776.66,590.872 1780.84,642.258 1785.01,660.621 1789.19,711.227 \n",
       "  1793.36,757.655 1797.54,755.232 1801.72,727.025 1805.89,759.539 1810.07,799.468 1814.24,845.837 1818.42,895.668 1822.59,885.192 1826.77,854.703 1830.94,827.97 \n",
       "  1835.12,848.024 1839.29,862.572 1843.47,821.299 1847.65,861.705 1851.82,826.272 1856,780.257 1860.17,779.223 1864.35,766.757 1868.52,733.014 1872.7,715.836 \n",
       "  1876.87,760.573 1881.05,807.646 1885.23,766.91 1889.4,809.105 1893.58,788.672 1897.75,800.775 1901.93,826.433 1906.1,779.458 1910.28,805.943 1914.45,842.089 \n",
       "  1918.63,811.8 1922.8,850.858 1926.98,840.997 1931.16,792.789 1935.33,832.821 1939.51,839.43 1943.68,825.329 1947.86,858.059 1952.03,820.859 1956.21,797.394 \n",
       "  1960.38,836.799 1964.56,801.414 1968.74,818.551 1972.91,796.531 1977.09,766.036 1981.26,787.974 1985.44,841.948 1989.61,839.671 1993.79,841.949 1997.96,825.636 \n",
       "  2002.14,832.29 2006.31,841.454 2010.49,885.008 2014.67,892.642 2018.84,935.687 2023.02,918.77 2027.19,963.424 2031.37,1013.1 2035.54,965.058 2039.72,1019 \n",
       "  2043.89,1027.32 2048.07,1044.57 2052.25,997.973 2056.42,983.59 2060.6,956.969 2064.77,906.766 2068.95,854.923 2073.12,814.047 2077.3,771.334 2081.47,769.784 \n",
       "  2085.65,758.842 2089.82,780.327 2094,789.744 2098.18,773.842 2102.35,721.358 2106.53,673.273 2110.7,626.916 2114.88,582.473 2119.05,586.747 2123.23,533.941 \n",
       "  2127.4,512.45 2131.58,495.85 2135.76,508.463 2139.93,507.338 2144.11,549.529 2148.28,500.84 2152.46,514.216 2156.63,493.712 2160.81,512.586 2164.98,529.801 \n",
       "  2169.16,524.417 2173.33,483.247 2177.51,526.414 2181.69,564.777 2185.86,538.78 2190.04,516.516 2194.21,472.96 2198.39,515.864 2202.56,530.783 2206.74,583.754 \n",
       "  2210.91,600.799 2215.09,548.028 2219.27,591.766 2223.44,563.46 2227.62,589.821 2231.79,547.509 2235.97,502.001 2240.14,461.833 2244.32,426.629 2248.49,413.177 \n",
       "  2252.67,379.7 2256.84,382.876 2261.02,342.237 2265.2,296.209 2269.37,317.607 2273.55,371.188 2277.72,420.921 2281.9,465.046 2286.07,500.199 2290.25,512.458 \n",
       "  \n",
       "  \"/>\n",
       "<path clip-path=\"url(#clip180)\" d=\"\n",
       "M1982.72 276.658 L2279.14 276.658 L2279.14 95.2176 L1982.72 95.2176  Z\n",
       "  \" fill=\"#ffffff\" fill-rule=\"evenodd\" fill-opacity=\"1\"/>\n",
       "<polyline clip-path=\"url(#clip180)\" style=\"stroke:#000000; stroke-width:4; stroke-opacity:1; fill:none\" points=\"\n",
       "  1982.72,276.658 2279.14,276.658 2279.14,95.2176 1982.72,95.2176 1982.72,276.658 \n",
       "  \"/>\n",
       "<polyline clip-path=\"url(#clip180)\" style=\"stroke:#009af9; stroke-width:4; stroke-opacity:1; fill:none\" points=\"\n",
       "  2007.26,155.698 2154.5,155.698 \n",
       "  \"/>\n",
       "<path clip-path=\"url(#clip180)\" d=\"M 0 0 M2192.88 175.385 Q2191.08 180.015 2189.36 181.427 Q2187.65 182.839 2184.78 182.839 L2181.38 182.839 L2181.38 179.274 L2183.88 179.274 Q2185.64 179.274 2186.61 178.44 Q2187.58 177.607 2188.76 174.505 L2189.52 172.561 L2179.04 147.052 L2183.55 147.052 L2191.65 167.329 L2199.76 147.052 L2204.27 147.052 L2192.88 175.385 Z\" fill=\"#000000\" fill-rule=\"evenodd\" fill-opacity=\"1\" /><path clip-path=\"url(#clip180)\" d=\"M 0 0 M2210.15 169.042 L2217.79 169.042 L2217.79 142.677 L2209.48 144.343 L2209.48 140.084 L2217.74 138.418 L2222.42 138.418 L2222.42 169.042 L2230.06 169.042 L2230.06 172.978 L2210.15 172.978 L2210.15 169.042 Z\" fill=\"#000000\" fill-rule=\"evenodd\" fill-opacity=\"1\" /><polyline clip-path=\"url(#clip180)\" style=\"stroke:#e26f46; stroke-width:4; stroke-opacity:1; fill:none\" points=\"\n",
       "  2007.26,216.178 2154.5,216.178 \n",
       "  \"/>\n",
       "<path clip-path=\"url(#clip180)\" d=\"M 0 0 M2192.88 235.865 Q2191.08 240.495 2189.36 241.907 Q2187.65 243.319 2184.78 243.319 L2181.38 243.319 L2181.38 239.754 L2183.88 239.754 Q2185.64 239.754 2186.61 238.92 Q2187.58 238.087 2188.76 234.985 L2189.52 233.041 L2179.04 207.532 L2183.55 207.532 L2191.65 227.809 L2199.76 207.532 L2204.27 207.532 L2192.88 235.865 Z\" fill=\"#000000\" fill-rule=\"evenodd\" fill-opacity=\"1\" /><path clip-path=\"url(#clip180)\" d=\"M 0 0 M2213.37 229.522 L2229.69 229.522 L2229.69 233.458 L2207.74 233.458 L2207.74 229.522 Q2210.4 226.768 2214.99 222.138 Q2219.59 217.485 2220.77 216.143 Q2223.02 213.62 2223.9 211.884 Q2224.8 210.124 2224.8 208.435 Q2224.8 205.68 2222.86 203.944 Q2220.94 202.208 2217.83 202.208 Q2215.64 202.208 2213.18 202.972 Q2210.75 203.735 2207.97 205.286 L2207.97 200.564 Q2210.8 199.43 2213.25 198.851 Q2215.7 198.273 2217.74 198.273 Q2223.11 198.273 2226.31 200.958 Q2229.5 203.643 2229.5 208.134 Q2229.5 210.263 2228.69 212.185 Q2227.9 214.083 2225.8 216.675 Q2225.22 217.347 2222.12 220.564 Q2219.01 223.759 2213.37 229.522 Z\" fill=\"#000000\" fill-rule=\"evenodd\" fill-opacity=\"1\" /></svg>\n"
      ]
     },
     "execution_count": 29,
     "metadata": {},
     "output_type": "execute_result"
    }
   ],
   "source": [
    "using Plots\n",
    "\n",
    "# plot some data\n",
    "plot([cumsum(rand(500) .- 0.5), cumsum(rand(500) .- 0.5)])"
   ]
  },
  {
   "cell_type": "code",
   "execution_count": 30,
   "metadata": {},
   "outputs": [
    {
     "data": {
      "image/svg+xml": [
       "<?xml version=\"1.0\" encoding=\"utf-8\"?>\n",
       "<svg xmlns=\"http://www.w3.org/2000/svg\" xmlns:xlink=\"http://www.w3.org/1999/xlink\" width=\"600\" height=\"400\" viewBox=\"0 0 2400 1600\">\n",
       "<defs>\n",
       "  <clipPath id=\"clip220\">\n",
       "    <rect x=\"0\" y=\"0\" width=\"2400\" height=\"1600\"/>\n",
       "  </clipPath>\n",
       "</defs>\n",
       "<path clip-path=\"url(#clip220)\" d=\"\n",
       "M0 1600 L2400 1600 L2400 0 L0 0  Z\n",
       "  \" fill=\"#ffffff\" fill-rule=\"evenodd\" fill-opacity=\"1\"/>\n",
       "<defs>\n",
       "  <clipPath id=\"clip221\">\n",
       "    <rect x=\"480\" y=\"0\" width=\"1681\" height=\"1600\"/>\n",
       "  </clipPath>\n",
       "</defs>\n",
       "<path clip-path=\"url(#clip220)\" d=\"\n",
       "M112.177 1486.45 L2352.76 1486.45 L2352.76 47.2441 L112.177 47.2441  Z\n",
       "  \" fill=\"#ffffff\" fill-rule=\"evenodd\" fill-opacity=\"1\"/>\n",
       "<defs>\n",
       "  <clipPath id=\"clip222\">\n",
       "    <rect x=\"112\" y=\"47\" width=\"2242\" height=\"1440\"/>\n",
       "  </clipPath>\n",
       "</defs>\n",
       "<polyline clip-path=\"url(#clip222)\" style=\"stroke:#000000; stroke-width:2; stroke-opacity:0.1; fill:none\" points=\"\n",
       "  171.354,1486.45 171.354,47.2441 \n",
       "  \"/>\n",
       "<polyline clip-path=\"url(#clip222)\" style=\"stroke:#000000; stroke-width:2; stroke-opacity:0.1; fill:none\" points=\"\n",
       "  594.952,1486.45 594.952,47.2441 \n",
       "  \"/>\n",
       "<polyline clip-path=\"url(#clip222)\" style=\"stroke:#000000; stroke-width:2; stroke-opacity:0.1; fill:none\" points=\"\n",
       "  1018.55,1486.45 1018.55,47.2441 \n",
       "  \"/>\n",
       "<polyline clip-path=\"url(#clip222)\" style=\"stroke:#000000; stroke-width:2; stroke-opacity:0.1; fill:none\" points=\"\n",
       "  1442.15,1486.45 1442.15,47.2441 \n",
       "  \"/>\n",
       "<polyline clip-path=\"url(#clip222)\" style=\"stroke:#000000; stroke-width:2; stroke-opacity:0.1; fill:none\" points=\"\n",
       "  1865.75,1486.45 1865.75,47.2441 \n",
       "  \"/>\n",
       "<polyline clip-path=\"url(#clip222)\" style=\"stroke:#000000; stroke-width:2; stroke-opacity:0.1; fill:none\" points=\"\n",
       "  2289.34,1486.45 2289.34,47.2441 \n",
       "  \"/>\n",
       "<polyline clip-path=\"url(#clip222)\" style=\"stroke:#000000; stroke-width:2; stroke-opacity:0.1; fill:none\" points=\"\n",
       "  112.177,1314.7 2352.76,1314.7 \n",
       "  \"/>\n",
       "<polyline clip-path=\"url(#clip222)\" style=\"stroke:#000000; stroke-width:2; stroke-opacity:0.1; fill:none\" points=\"\n",
       "  112.177,979.212 2352.76,979.212 \n",
       "  \"/>\n",
       "<polyline clip-path=\"url(#clip222)\" style=\"stroke:#000000; stroke-width:2; stroke-opacity:0.1; fill:none\" points=\"\n",
       "  112.177,643.727 2352.76,643.727 \n",
       "  \"/>\n",
       "<polyline clip-path=\"url(#clip222)\" style=\"stroke:#000000; stroke-width:2; stroke-opacity:0.1; fill:none\" points=\"\n",
       "  112.177,308.242 2352.76,308.242 \n",
       "  \"/>\n",
       "<polyline clip-path=\"url(#clip220)\" style=\"stroke:#000000; stroke-width:4; stroke-opacity:1; fill:none\" points=\"\n",
       "  112.177,1486.45 2352.76,1486.45 \n",
       "  \"/>\n",
       "<polyline clip-path=\"url(#clip220)\" style=\"stroke:#000000; stroke-width:4; stroke-opacity:1; fill:none\" points=\"\n",
       "  112.177,1486.45 112.177,47.2441 \n",
       "  \"/>\n",
       "<polyline clip-path=\"url(#clip220)\" style=\"stroke:#000000; stroke-width:4; stroke-opacity:1; fill:none\" points=\"\n",
       "  171.354,1486.45 171.354,1469.18 \n",
       "  \"/>\n",
       "<polyline clip-path=\"url(#clip220)\" style=\"stroke:#000000; stroke-width:4; stroke-opacity:1; fill:none\" points=\"\n",
       "  594.952,1486.45 594.952,1469.18 \n",
       "  \"/>\n",
       "<polyline clip-path=\"url(#clip220)\" style=\"stroke:#000000; stroke-width:4; stroke-opacity:1; fill:none\" points=\"\n",
       "  1018.55,1486.45 1018.55,1469.18 \n",
       "  \"/>\n",
       "<polyline clip-path=\"url(#clip220)\" style=\"stroke:#000000; stroke-width:4; stroke-opacity:1; fill:none\" points=\"\n",
       "  1442.15,1486.45 1442.15,1469.18 \n",
       "  \"/>\n",
       "<polyline clip-path=\"url(#clip220)\" style=\"stroke:#000000; stroke-width:4; stroke-opacity:1; fill:none\" points=\"\n",
       "  1865.75,1486.45 1865.75,1469.18 \n",
       "  \"/>\n",
       "<polyline clip-path=\"url(#clip220)\" style=\"stroke:#000000; stroke-width:4; stroke-opacity:1; fill:none\" points=\"\n",
       "  2289.34,1486.45 2289.34,1469.18 \n",
       "  \"/>\n",
       "<polyline clip-path=\"url(#clip220)\" style=\"stroke:#000000; stroke-width:4; stroke-opacity:1; fill:none\" points=\"\n",
       "  112.177,1314.7 139.064,1314.7 \n",
       "  \"/>\n",
       "<polyline clip-path=\"url(#clip220)\" style=\"stroke:#000000; stroke-width:4; stroke-opacity:1; fill:none\" points=\"\n",
       "  112.177,979.212 139.064,979.212 \n",
       "  \"/>\n",
       "<polyline clip-path=\"url(#clip220)\" style=\"stroke:#000000; stroke-width:4; stroke-opacity:1; fill:none\" points=\"\n",
       "  112.177,643.727 139.064,643.727 \n",
       "  \"/>\n",
       "<polyline clip-path=\"url(#clip220)\" style=\"stroke:#000000; stroke-width:4; stroke-opacity:1; fill:none\" points=\"\n",
       "  112.177,308.242 139.064,308.242 \n",
       "  \"/>\n",
       "<path clip-path=\"url(#clip220)\" d=\"M 0 0 M171.354 1508.44 Q167.743 1508.44 165.914 1512 Q164.108 1515.55 164.108 1522.67 Q164.108 1529.78 165.914 1533.35 Q167.743 1536.89 171.354 1536.89 Q174.988 1536.89 176.794 1533.35 Q178.622 1529.78 178.622 1522.67 Q178.622 1515.55 176.794 1512 Q174.988 1508.44 171.354 1508.44 M171.354 1504.73 Q177.164 1504.73 180.219 1509.34 Q183.298 1513.92 183.298 1522.67 Q183.298 1531.4 180.219 1536.01 Q177.164 1540.59 171.354 1540.59 Q165.544 1540.59 162.465 1536.01 Q159.409 1531.4 159.409 1522.67 Q159.409 1513.92 162.465 1509.34 Q165.544 1504.73 171.354 1504.73 Z\" fill=\"#000000\" fill-rule=\"evenodd\" fill-opacity=\"1\" /><path clip-path=\"url(#clip220)\" d=\"M 0 0 M558.32 1535.98 L565.959 1535.98 L565.959 1509.62 L557.649 1511.29 L557.649 1507.03 L565.913 1505.36 L570.588 1505.36 L570.588 1535.98 L578.227 1535.98 L578.227 1539.92 L558.32 1539.92 L558.32 1535.98 Z\" fill=\"#000000\" fill-rule=\"evenodd\" fill-opacity=\"1\" /><path clip-path=\"url(#clip220)\" d=\"M 0 0 M593.297 1508.44 Q589.686 1508.44 587.857 1512 Q586.051 1515.55 586.051 1522.67 Q586.051 1529.78 587.857 1533.35 Q589.686 1536.89 593.297 1536.89 Q596.931 1536.89 598.736 1533.35 Q600.565 1529.78 600.565 1522.67 Q600.565 1515.55 598.736 1512 Q596.931 1508.44 593.297 1508.44 M593.297 1504.73 Q599.107 1504.73 602.162 1509.34 Q605.241 1513.92 605.241 1522.67 Q605.241 1531.4 602.162 1536.01 Q599.107 1540.59 593.297 1540.59 Q587.486 1540.59 584.408 1536.01 Q581.352 1531.4 581.352 1522.67 Q581.352 1513.92 584.408 1509.34 Q587.486 1504.73 593.297 1504.73 Z\" fill=\"#000000\" fill-rule=\"evenodd\" fill-opacity=\"1\" /><path clip-path=\"url(#clip220)\" d=\"M 0 0 M620.31 1508.44 Q616.699 1508.44 614.871 1512 Q613.065 1515.55 613.065 1522.67 Q613.065 1529.78 614.871 1533.35 Q616.699 1536.89 620.31 1536.89 Q623.945 1536.89 625.75 1533.35 Q627.579 1529.78 627.579 1522.67 Q627.579 1515.55 625.75 1512 Q623.945 1508.44 620.31 1508.44 M620.31 1504.73 Q626.121 1504.73 629.176 1509.34 Q632.255 1513.92 632.255 1522.67 Q632.255 1531.4 629.176 1536.01 Q626.121 1540.59 620.31 1540.59 Q614.5 1540.59 611.422 1536.01 Q608.366 1531.4 608.366 1522.67 Q608.366 1513.92 611.422 1509.34 Q614.5 1504.73 620.31 1504.73 Z\" fill=\"#000000\" fill-rule=\"evenodd\" fill-opacity=\"1\" /><path clip-path=\"url(#clip220)\" d=\"M 0 0 M986.189 1535.98 L1002.51 1535.98 L1002.51 1539.92 L980.564 1539.92 L980.564 1535.98 Q983.226 1533.23 987.809 1528.6 Q992.415 1523.95 993.596 1522.61 Q995.841 1520.08 996.721 1518.35 Q997.624 1516.59 997.624 1514.9 Q997.624 1512.14 995.679 1510.41 Q993.758 1508.67 990.656 1508.67 Q988.457 1508.67 986.003 1509.43 Q983.573 1510.2 980.795 1511.75 L980.795 1507.03 Q983.619 1505.89 986.073 1505.31 Q988.527 1504.73 990.564 1504.73 Q995.934 1504.73 999.128 1507.42 Q1002.32 1510.11 1002.32 1514.6 Q1002.32 1516.73 1001.51 1518.65 Q1000.73 1520.54 998.619 1523.14 Q998.04 1523.81 994.939 1527.03 Q991.837 1530.22 986.189 1535.98 Z\" fill=\"#000000\" fill-rule=\"evenodd\" fill-opacity=\"1\" /><path clip-path=\"url(#clip220)\" d=\"M 0 0 M1017.58 1508.44 Q1013.97 1508.44 1012.14 1512 Q1010.33 1515.55 1010.33 1522.67 Q1010.33 1529.78 1012.14 1533.35 Q1013.97 1536.89 1017.58 1536.89 Q1021.21 1536.89 1023.02 1533.35 Q1024.85 1529.78 1024.85 1522.67 Q1024.85 1515.55 1023.02 1512 Q1021.21 1508.44 1017.58 1508.44 M1017.58 1504.73 Q1023.39 1504.73 1026.44 1509.34 Q1029.52 1513.92 1029.52 1522.67 Q1029.52 1531.4 1026.44 1536.01 Q1023.39 1540.59 1017.58 1540.59 Q1011.77 1540.59 1008.69 1536.01 Q1005.63 1531.4 1005.63 1522.67 Q1005.63 1513.92 1008.69 1509.34 Q1011.77 1504.73 1017.58 1504.73 Z\" fill=\"#000000\" fill-rule=\"evenodd\" fill-opacity=\"1\" /><path clip-path=\"url(#clip220)\" d=\"M 0 0 M1044.59 1508.44 Q1040.98 1508.44 1039.15 1512 Q1037.35 1515.55 1037.35 1522.67 Q1037.35 1529.78 1039.15 1533.35 Q1040.98 1536.89 1044.59 1536.89 Q1048.23 1536.89 1050.03 1533.35 Q1051.86 1529.78 1051.86 1522.67 Q1051.86 1515.55 1050.03 1512 Q1048.23 1508.44 1044.59 1508.44 M1044.59 1504.73 Q1050.4 1504.73 1053.46 1509.34 Q1056.54 1513.92 1056.54 1522.67 Q1056.54 1531.4 1053.46 1536.01 Q1050.4 1540.59 1044.59 1540.59 Q1038.78 1540.59 1035.7 1536.01 Q1032.65 1531.4 1032.65 1522.67 Q1032.65 1513.92 1035.7 1509.34 Q1038.78 1504.73 1044.59 1504.73 Z\" fill=\"#000000\" fill-rule=\"evenodd\" fill-opacity=\"1\" /><path clip-path=\"url(#clip220)\" d=\"M 0 0 M1419.38 1521.29 Q1422.74 1522 1424.61 1524.27 Q1426.51 1526.54 1426.51 1529.87 Q1426.51 1534.99 1422.99 1537.79 Q1419.47 1540.59 1412.99 1540.59 Q1410.82 1540.59 1408.5 1540.15 Q1406.21 1539.73 1403.76 1538.88 L1403.76 1534.36 Q1405.7 1535.5 1408.02 1536.08 Q1410.33 1536.66 1412.85 1536.66 Q1417.25 1536.66 1419.54 1534.92 Q1421.86 1533.18 1421.86 1529.87 Q1421.86 1526.82 1419.71 1525.11 Q1417.58 1523.37 1413.76 1523.37 L1409.73 1523.37 L1409.73 1519.53 L1413.94 1519.53 Q1417.39 1519.53 1419.22 1518.16 Q1421.05 1516.77 1421.05 1514.18 Q1421.05 1511.52 1419.15 1510.11 Q1417.27 1508.67 1413.76 1508.67 Q1411.84 1508.67 1409.64 1509.09 Q1407.44 1509.5 1404.8 1510.38 L1404.8 1506.22 Q1407.46 1505.48 1409.77 1505.11 Q1412.11 1504.73 1414.17 1504.73 Q1419.5 1504.73 1422.6 1507.17 Q1425.7 1509.57 1425.7 1513.69 Q1425.7 1516.56 1424.06 1518.55 Q1422.41 1520.52 1419.38 1521.29 Z\" fill=\"#000000\" fill-rule=\"evenodd\" fill-opacity=\"1\" /><path clip-path=\"url(#clip220)\" d=\"M 0 0 M1441.58 1508.44 Q1437.97 1508.44 1436.14 1512 Q1434.34 1515.55 1434.34 1522.67 Q1434.34 1529.78 1436.14 1533.35 Q1437.97 1536.89 1441.58 1536.89 Q1445.21 1536.89 1447.02 1533.35 Q1448.85 1529.78 1448.85 1522.67 Q1448.85 1515.55 1447.02 1512 Q1445.21 1508.44 1441.58 1508.44 M1441.58 1504.73 Q1447.39 1504.73 1450.45 1509.34 Q1453.52 1513.92 1453.52 1522.67 Q1453.52 1531.4 1450.45 1536.01 Q1447.39 1540.59 1441.58 1540.59 Q1435.77 1540.59 1432.69 1536.01 Q1429.64 1531.4 1429.64 1522.67 Q1429.64 1513.92 1432.69 1509.34 Q1435.77 1504.73 1441.58 1504.73 Z\" fill=\"#000000\" fill-rule=\"evenodd\" fill-opacity=\"1\" /><path clip-path=\"url(#clip220)\" d=\"M 0 0 M1468.59 1508.44 Q1464.98 1508.44 1463.15 1512 Q1461.35 1515.55 1461.35 1522.67 Q1461.35 1529.78 1463.15 1533.35 Q1464.98 1536.89 1468.59 1536.89 Q1472.23 1536.89 1474.03 1533.35 Q1475.86 1529.78 1475.86 1522.67 Q1475.86 1515.55 1474.03 1512 Q1472.23 1508.44 1468.59 1508.44 M1468.59 1504.73 Q1474.4 1504.73 1477.46 1509.34 Q1480.54 1513.92 1480.54 1522.67 Q1480.54 1531.4 1477.46 1536.01 Q1474.4 1540.59 1468.59 1540.59 Q1462.78 1540.59 1459.71 1536.01 Q1456.65 1531.4 1456.65 1522.67 Q1456.65 1513.92 1459.71 1509.34 Q1462.78 1504.73 1468.59 1504.73 Z\" fill=\"#000000\" fill-rule=\"evenodd\" fill-opacity=\"1\" /><path clip-path=\"url(#clip220)\" d=\"M 0 0 M1841.74 1509.43 L1829.94 1527.88 L1841.74 1527.88 L1841.74 1509.43 M1840.51 1505.36 L1846.39 1505.36 L1846.39 1527.88 L1851.32 1527.88 L1851.32 1531.77 L1846.39 1531.77 L1846.39 1539.92 L1841.74 1539.92 L1841.74 1531.77 L1826.14 1531.77 L1826.14 1527.26 L1840.51 1505.36 Z\" fill=\"#000000\" fill-rule=\"evenodd\" fill-opacity=\"1\" /><path clip-path=\"url(#clip220)\" d=\"M 0 0 M1866.39 1508.44 Q1862.78 1508.44 1860.95 1512 Q1859.15 1515.55 1859.15 1522.67 Q1859.15 1529.78 1860.95 1533.35 Q1862.78 1536.89 1866.39 1536.89 Q1870.03 1536.89 1871.83 1533.35 Q1873.66 1529.78 1873.66 1522.67 Q1873.66 1515.55 1871.83 1512 Q1870.03 1508.44 1866.39 1508.44 M1866.39 1504.73 Q1872.2 1504.73 1875.26 1509.34 Q1878.34 1513.92 1878.34 1522.67 Q1878.34 1531.4 1875.26 1536.01 Q1872.2 1540.59 1866.39 1540.59 Q1860.58 1540.59 1857.5 1536.01 Q1854.45 1531.4 1854.45 1522.67 Q1854.45 1513.92 1857.5 1509.34 Q1860.58 1504.73 1866.39 1504.73 Z\" fill=\"#000000\" fill-rule=\"evenodd\" fill-opacity=\"1\" /><path clip-path=\"url(#clip220)\" d=\"M 0 0 M1893.41 1508.44 Q1889.8 1508.44 1887.97 1512 Q1886.16 1515.55 1886.16 1522.67 Q1886.16 1529.78 1887.97 1533.35 Q1889.8 1536.89 1893.41 1536.89 Q1897.04 1536.89 1898.85 1533.35 Q1900.68 1529.78 1900.68 1522.67 Q1900.68 1515.55 1898.85 1512 Q1897.04 1508.44 1893.41 1508.44 M1893.41 1504.73 Q1899.22 1504.73 1902.27 1509.34 Q1905.35 1513.92 1905.35 1522.67 Q1905.35 1531.4 1902.27 1536.01 Q1899.22 1540.59 1893.41 1540.59 Q1887.6 1540.59 1884.52 1536.01 Q1881.46 1531.4 1881.46 1522.67 Q1881.46 1513.92 1884.52 1509.34 Q1887.6 1504.73 1893.41 1504.73 Z\" fill=\"#000000\" fill-rule=\"evenodd\" fill-opacity=\"1\" /><path clip-path=\"url(#clip220)\" d=\"M 0 0 M2252.61 1505.36 L2270.96 1505.36 L2270.96 1509.3 L2256.89 1509.3 L2256.89 1517.77 Q2257.91 1517.42 2258.93 1517.26 Q2259.95 1517.07 2260.96 1517.07 Q2266.75 1517.07 2270.13 1520.24 Q2273.51 1523.42 2273.51 1528.83 Q2273.51 1534.41 2270.04 1537.51 Q2266.57 1540.59 2260.25 1540.59 Q2258.07 1540.59 2255.8 1540.22 Q2253.56 1539.85 2251.15 1539.11 L2251.15 1534.41 Q2253.23 1535.54 2255.45 1536.1 Q2257.68 1536.66 2260.15 1536.66 Q2264.16 1536.66 2266.5 1534.55 Q2268.83 1532.44 2268.83 1528.83 Q2268.83 1525.22 2266.5 1523.11 Q2264.16 1521.01 2260.15 1521.01 Q2258.28 1521.01 2256.4 1521.42 Q2254.55 1521.84 2252.61 1522.72 L2252.61 1505.36 Z\" fill=\"#000000\" fill-rule=\"evenodd\" fill-opacity=\"1\" /><path clip-path=\"url(#clip220)\" d=\"M 0 0 M2288.58 1508.44 Q2284.97 1508.44 2283.14 1512 Q2281.33 1515.55 2281.33 1522.67 Q2281.33 1529.78 2283.14 1533.35 Q2284.97 1536.89 2288.58 1536.89 Q2292.21 1536.89 2294.02 1533.35 Q2295.85 1529.78 2295.85 1522.67 Q2295.85 1515.55 2294.02 1512 Q2292.21 1508.44 2288.58 1508.44 M2288.58 1504.73 Q2294.39 1504.73 2297.45 1509.34 Q2300.52 1513.92 2300.52 1522.67 Q2300.52 1531.4 2297.45 1536.01 Q2294.39 1540.59 2288.58 1540.59 Q2282.77 1540.59 2279.69 1536.01 Q2276.64 1531.4 2276.64 1522.67 Q2276.64 1513.92 2279.69 1509.34 Q2282.77 1504.73 2288.58 1504.73 Z\" fill=\"#000000\" fill-rule=\"evenodd\" fill-opacity=\"1\" /><path clip-path=\"url(#clip220)\" d=\"M 0 0 M2315.59 1508.44 Q2311.98 1508.44 2310.15 1512 Q2308.35 1515.55 2308.35 1522.67 Q2308.35 1529.78 2310.15 1533.35 Q2311.98 1536.89 2315.59 1536.89 Q2319.23 1536.89 2321.03 1533.35 Q2322.86 1529.78 2322.86 1522.67 Q2322.86 1515.55 2321.03 1512 Q2319.23 1508.44 2315.59 1508.44 M2315.59 1504.73 Q2321.4 1504.73 2324.46 1509.34 Q2327.54 1513.92 2327.54 1522.67 Q2327.54 1531.4 2324.46 1536.01 Q2321.4 1540.59 2315.59 1540.59 Q2309.78 1540.59 2306.7 1536.01 Q2303.65 1531.4 2303.65 1522.67 Q2303.65 1513.92 2306.7 1509.34 Q2309.78 1504.73 2315.59 1504.73 Z\" fill=\"#000000\" fill-rule=\"evenodd\" fill-opacity=\"1\" /><path clip-path=\"url(#clip220)\" d=\"M 0 0 M76.2328 1300.5 Q72.6217 1300.5 70.793 1304.06 Q68.9875 1307.6 68.9875 1314.73 Q68.9875 1321.84 70.793 1325.4 Q72.6217 1328.94 76.2328 1328.94 Q79.867 1328.94 81.6726 1325.4 Q83.5013 1321.84 83.5013 1314.73 Q83.5013 1307.6 81.6726 1304.06 Q79.867 1300.5 76.2328 1300.5 M76.2328 1296.79 Q82.0429 1296.79 85.0985 1301.4 Q88.1772 1305.98 88.1772 1314.73 Q88.1772 1323.46 85.0985 1328.06 Q82.0429 1332.65 76.2328 1332.65 Q70.4226 1332.65 67.344 1328.06 Q64.2884 1323.46 64.2884 1314.73 Q64.2884 1305.98 67.344 1301.4 Q70.4226 1296.79 76.2328 1296.79 Z\" fill=\"#000000\" fill-rule=\"evenodd\" fill-opacity=\"1\" /><path clip-path=\"url(#clip220)\" d=\"M 0 0 M71.8578 992.557 L88.1772 992.557 L88.1772 996.492 L66.2328 996.492 L66.2328 992.557 Q68.8949 989.802 73.4782 985.172 Q78.0846 980.52 79.2652 979.177 Q81.5105 976.654 82.3902 974.918 Q83.2929 973.159 83.2929 971.469 Q83.2929 968.714 81.3485 966.978 Q79.4272 965.242 76.3254 965.242 Q74.1263 965.242 71.6726 966.006 Q69.2421 966.77 66.4643 968.321 L66.4643 963.598 Q69.2884 962.464 71.7421 961.886 Q74.1958 961.307 76.2328 961.307 Q81.6031 961.307 84.7976 963.992 Q87.992 966.677 87.992 971.168 Q87.992 973.298 87.1818 975.219 Q86.3948 977.117 84.2883 979.71 Q83.7096 980.381 80.6078 983.598 Q77.5059 986.793 71.8578 992.557 Z\" fill=\"#000000\" fill-rule=\"evenodd\" fill-opacity=\"1\" /><path clip-path=\"url(#clip220)\" d=\"M 0 0 M78.5939 630.521 L66.7884 648.97 L78.5939 648.97 L78.5939 630.521 M77.367 626.447 L83.2466 626.447 L83.2466 648.97 L88.1772 648.97 L88.1772 652.859 L83.2466 652.859 L83.2466 661.007 L78.5939 661.007 L78.5939 652.859 L62.9921 652.859 L62.9921 648.345 L77.367 626.447 Z\" fill=\"#000000\" fill-rule=\"evenodd\" fill-opacity=\"1\" /><path clip-path=\"url(#clip220)\" d=\"M 0 0 M76.6495 306.379 Q73.5013 306.379 71.6495 308.532 Q69.8208 310.684 69.8208 314.434 Q69.8208 318.161 71.6495 320.337 Q73.5013 322.49 76.6495 322.49 Q79.7976 322.49 81.6263 320.337 Q83.4781 318.161 83.4781 314.434 Q83.4781 310.684 81.6263 308.532 Q79.7976 306.379 76.6495 306.379 M85.9318 291.726 L85.9318 295.985 Q84.1726 295.152 82.367 294.712 Q80.5846 294.272 78.8254 294.272 Q74.1958 294.272 71.7421 297.397 Q69.3115 300.522 68.9643 306.842 Q70.33 304.828 72.3902 303.763 Q74.4504 302.675 76.9272 302.675 Q82.1355 302.675 85.1448 305.846 Q88.1772 308.995 88.1772 314.434 Q88.1772 319.758 85.029 322.976 Q81.8809 326.194 76.6495 326.194 Q70.6541 326.194 67.4828 321.61 Q64.3116 317.004 64.3116 308.277 Q64.3116 300.083 68.2004 295.221 Q72.0893 290.337 78.6402 290.337 Q80.3994 290.337 82.1818 290.684 Q83.9874 291.032 85.9318 291.726 Z\" fill=\"#000000\" fill-rule=\"evenodd\" fill-opacity=\"1\" /><polyline clip-path=\"url(#clip222)\" style=\"stroke:#009af9; stroke-width:4; stroke-opacity:1; fill:none\" points=\"\n",
       "  175.59,1230.89 179.826,1302.38 184.062,1315.64 188.298,1319.52 192.534,1252.79 196.77,1328.33 201.006,1342.58 205.242,1287.67 209.478,1287.71 213.714,1285.91 \n",
       "  217.95,1234.42 222.186,1228.17 226.422,1306.39 230.658,1259.32 234.893,1217.77 239.129,1251.51 243.365,1180.7 247.601,1119.53 251.837,1158.23 256.073,1097.93 \n",
       "  260.309,1033.93 264.545,1102.47 268.781,1122.92 273.017,1162.35 277.253,1213.63 281.489,1293.6 285.725,1368.17 289.961,1292.15 294.197,1334.61 298.433,1319.49 \n",
       "  302.669,1296.59 306.905,1267.96 311.141,1240.19 315.377,1245.54 319.613,1257.74 323.849,1208.57 328.085,1245.54 332.321,1185.67 336.557,1183.42 340.793,1196.53 \n",
       "  345.029,1162.91 349.265,1171.21 353.501,1093.66 357.737,1155 361.973,1086.14 366.209,1022.34 370.445,965.957 374.681,905.556 378.917,922.097 383.153,912.511 \n",
       "  387.389,906.341 391.625,968.633 395.861,1051.98 400.097,1005.1 404.333,995.418 408.569,998.52 412.805,940.029 417.041,875.872 421.277,852.736 425.513,866.2 \n",
       "  429.749,861.248 433.985,866.769 438.22,802.752 442.456,886.335 446.692,838.05 450.928,902.8 455.164,974.471 459.4,992.755 463.636,957.956 467.872,929.908 \n",
       "  472.108,897.595 476.344,815.02 480.58,874.814 484.816,952.285 489.052,905.283 493.288,836.747 497.524,911.771 501.76,945.549 505.996,918.12 510.232,942.581 \n",
       "  514.468,926.361 518.704,876.922 522.94,815.348 527.176,757.357 531.412,725.58 535.648,722.441 539.884,768.458 544.12,805.711 548.356,754.862 552.592,817.333 \n",
       "  556.828,859.159 561.064,878.038 565.3,960.921 569.536,954.04 573.772,1007.66 578.008,968.823 582.244,981.091 586.48,930.761 590.716,848.355 594.952,859.755 \n",
       "  599.188,937.744 603.424,899.678 607.66,883.892 611.896,800.561 616.132,780.339 620.368,761.152 624.604,754.01 628.84,827.405 633.076,751.604 637.311,736.515 \n",
       "  641.547,813.455 645.783,857.061 650.019,826.293 654.255,889.3 658.491,949.491 662.727,870.637 666.963,917.919 671.199,978.881 675.435,902.423 679.671,970.441 \n",
       "  683.907,971.819 688.143,898.406 692.379,911.806 696.615,883.85 700.851,947.249 705.087,980.595 709.323,906.722 713.559,846.918 717.795,903.184 722.031,984.461 \n",
       "  726.267,979.077 730.503,949.474 734.739,923.044 738.975,953.263 743.211,951.169 747.447,879.319 751.683,898.066 755.919,828.171 760.155,850.036 764.391,910.632 \n",
       "  768.627,859.163 772.863,853.643 777.099,790.268 781.335,783.843 785.571,742.101 789.807,681.648 794.043,759.441 798.279,802.363 802.515,744.256 806.751,791.212 \n",
       "  810.987,714.547 815.223,670.539 819.459,711.476 823.695,639.907 827.931,623.897 832.167,701.461 836.403,681.195 840.638,614.061 844.874,649.485 849.11,689.817 \n",
       "  853.346,674.443 857.582,630.115 861.818,615.725 866.054,554.157 870.29,479.523 874.526,513.912 878.762,482.997 882.998,558.392 887.234,578.529 891.47,554.553 \n",
       "  895.706,491.746 899.942,444.176 904.178,390.375 908.414,453.704 912.65,435.359 916.886,406.465 921.122,456.513 925.358,428.309 929.594,437.115 933.83,476.042 \n",
       "  938.066,443.592 942.302,361.423 946.538,420.798 950.774,448.48 955.01,473.375 959.246,430.287 963.482,446.689 967.718,414.053 971.954,410.812 976.19,377.828 \n",
       "  980.426,439.865 984.662,373.705 988.898,298.069 993.134,294.217 997.37,269.198 1001.61,306.057 1005.84,353.844 1010.08,297.992 1014.31,350.187 1018.55,344.518 \n",
       "  1022.79,281.21 1027.02,208.227 1031.26,255.832 1035.49,305.378 1039.73,303.776 1043.97,367.661 1048.2,305.724 1052.44,303.145 1056.67,295.803 1060.91,376.646 \n",
       "  1065.15,452.798 1069.38,528.306 1073.62,484.347 1077.85,517.98 1082.09,557.046 1086.33,630.829 1090.56,711.833 1094.8,784.031 1099.03,861.186 1103.27,912.808 \n",
       "  1107.51,927.214 1111.74,960.968 1115.98,888.06 1120.21,839.072 1124.45,802.223 1128.69,875.442 1132.92,958.044 1137.16,943.829 1141.39,860.225 1145.63,789.467 \n",
       "  1149.86,750.339 1154.1,721.15 1158.34,778.156 1162.57,825.926 1166.81,839.267 1171.04,825.493 1175.28,774.751 1179.52,775.655 1183.75,764.264 1187.99,776.169 \n",
       "  1192.22,753.829 1196.46,785.508 1200.7,780.671 1204.93,728.124 1209.17,771.41 1213.4,692.803 1217.64,682.594 1221.88,669.431 1226.11,593.03 1230.35,542.88 \n",
       "  1234.58,459.862 1238.82,516.587 1243.06,575.606 1247.29,574.498 1251.53,653.408 1255.76,612.776 1260,680.72 1264.24,712.026 1268.47,715.359 1272.71,770.718 \n",
       "  1276.94,809.657 1281.18,882.113 1285.42,893.045 1289.65,970.872 1293.89,894.071 1298.12,964.42 1302.36,933.979 1306.6,850.44 1310.83,905.87 1315.07,854.98 \n",
       "  1319.3,821.212 1323.54,833.189 1327.78,883.815 1332.01,840.253 1336.25,796.363 1340.48,741.398 1344.72,694.538 1348.96,765.038 1353.19,695.634 1357.43,640.731 \n",
       "  1361.66,560.301 1365.9,562.209 1370.14,604.935 1374.37,620.283 1378.61,583.568 1382.84,595.719 1387.08,552.578 1391.32,494.948 1395.55,462.399 1399.79,453.11 \n",
       "  1404.02,376.397 1408.26,447.217 1412.5,364.967 1416.73,341.499 1420.97,308.654 1425.2,350.677 1429.44,359.228 1433.68,334.424 1437.91,398.222 1442.15,416.839 \n",
       "  1446.38,376.033 1450.62,445.424 1454.86,380.537 1459.09,315.089 1463.33,304.752 1467.56,241.898 1471.8,302.108 1476.04,239.339 1480.27,244.559 1484.51,298.869 \n",
       "  1488.74,234.286 1492.98,246.388 1497.22,292.656 1501.45,360.917 1505.69,413.186 1509.92,490.199 1514.16,447.015 1518.4,495.903 1522.63,450.034 1526.87,434.843 \n",
       "  1531.1,386.765 1535.34,347.228 1539.58,317.841 1543.81,283.767 1548.05,261.738 1552.28,345.023 1556.52,406.102 1560.75,342.622 1564.99,327.471 1569.23,391.742 \n",
       "  1573.46,439.707 1577.7,372.38 1581.93,302.977 1586.17,342.063 1590.41,269.286 1594.64,256.759 1598.88,250.66 1603.11,327.9 1607.35,249.555 1611.59,212.489 \n",
       "  1615.82,180.433 1620.06,235.416 1624.29,241.226 1628.53,240.007 1632.77,198.672 1637,240.041 1641.24,193.447 1645.47,219.194 1649.71,282.989 1653.95,322.37 \n",
       "  1658.18,402.717 1662.42,378.338 1666.65,450.277 1670.89,507.41 1675.13,582.213 1679.36,595.861 1683.6,581.159 1687.83,574.343 1692.07,621.047 1696.31,626.349 \n",
       "  1700.54,616.194 1704.78,662.276 1709.01,590.342 1713.25,636.307 1717.49,680.225 1721.72,672.588 1725.96,629.029 1730.19,630.949 1734.43,562.087 1738.67,622.128 \n",
       "  1742.9,634.205 1747.14,613.523 1751.37,588.865 1755.61,657.993 1759.85,581.727 1764.08,539.387 1768.32,469.712 1772.55,405.311 1776.79,415.027 1781.03,404.152 \n",
       "  1785.26,377.548 1789.5,295.126 1793.73,331.848 1797.97,291.439 1802.21,262.226 1806.44,258.596 1810.68,198.255 1814.91,221.288 1819.15,279.636 1823.39,260.302 \n",
       "  1827.62,191.227 1831.86,158.955 1836.09,232.779 1840.33,262.301 1844.57,290.18 1848.8,358.405 1853.04,437.247 1857.27,432.03 1861.51,485.513 1865.75,480.68 \n",
       "  1869.98,510.095 1874.22,510.291 1878.45,535.883 1882.69,566.474 1886.93,538.281 1891.16,490.139 1895.4,546.082 1899.63,578.217 1903.87,566.779 1908.11,575.99 \n",
       "  1912.34,506.417 1916.58,468.021 1920.81,520.301 1925.05,555.306 1929.29,596.755 1933.52,668.408 1937.76,740.922 1941.99,715.265 1946.23,664.213 1950.46,591.957 \n",
       "  1954.7,510.299 1958.94,465.431 1963.17,406.919 1967.41,451.654 1971.64,395.322 1975.88,338.197 1980.12,355.87 1984.35,325.706 1988.59,248.194 1992.82,233.784 \n",
       "  1997.06,281.241 2001.3,248.765 2005.53,309.935 2009.77,266.907 2014,284.286 2018.24,246.854 2022.48,309.628 2026.71,238.963 2030.95,237.694 2035.18,206.056 \n",
       "  2039.42,240.884 2043.66,300.827 2047.89,245.642 2052.13,243.588 2056.36,164.572 2060.6,202.458 2064.84,258.19 2069.07,265.236 2073.31,286.434 2077.54,289.826 \n",
       "  2081.78,305.078 2086.02,338.413 2090.25,338.638 2094.49,349.951 2098.72,351.87 2102.96,417.492 2107.2,434.816 2111.43,387.431 2115.67,419.409 2119.9,371.24 \n",
       "  2124.14,403.283 2128.38,393.017 2132.61,445.836 2136.85,450.217 2141.08,382.589 2145.32,300.304 2149.56,303.265 2153.79,315.254 2158.03,365.934 2162.26,303.388 \n",
       "  2166.5,250.162 2170.74,203.68 2174.97,164.216 2179.21,87.9763 2183.44,148.646 2187.68,183.75 2191.92,240.49 2196.15,247.243 2200.39,297.017 2204.62,344.019 \n",
       "  2208.86,333.465 2213.1,385.188 2217.33,377.798 2221.57,337.876 2225.8,284.382 2230.04,254.387 2234.28,288.283 2238.51,284.502 2242.75,240.352 2246.98,271.984 \n",
       "  2251.22,308.553 2255.46,339.503 2259.69,366.715 2263.93,432.106 2268.16,511.921 2272.4,525.156 2276.64,501.856 2280.87,418.09 2285.11,489.1 2289.34,494.176 \n",
       "  \n",
       "  \"/>\n",
       "<polyline clip-path=\"url(#clip222)\" style=\"stroke:#e26f46; stroke-width:4; stroke-opacity:1; fill:none\" points=\"\n",
       "  175.59,1242.32 179.826,1282.19 184.062,1212.34 188.298,1233.04 192.534,1156.77 196.77,1186.72 201.006,1133.67 205.242,1149.88 209.478,1202.09 213.714,1199.92 \n",
       "  217.95,1155.29 222.186,1150.17 226.422,1138.01 230.658,1088.91 234.893,1038.04 239.129,1060.97 243.365,1009.88 247.601,1047.83 251.837,1123.75 256.073,1092.42 \n",
       "  260.309,1106.66 264.545,1072.11 268.781,1081.79 273.017,1061.27 277.253,1045.09 281.489,1068.1 285.725,984.935 289.961,969.486 294.197,960.92 298.433,1011.2 \n",
       "  302.669,1081.43 306.905,1032.68 311.141,1033.22 315.377,1098.06 319.613,1111.41 323.849,1173.52 328.085,1150.08 332.321,1186.32 336.557,1184.13 340.793,1145.53 \n",
       "  345.029,1093.85 349.265,1079.38 353.501,1120.2 357.737,1054.67 361.973,1085.02 366.209,1004.63 370.445,926.783 374.681,925.864 378.917,871.361 383.153,931.081 \n",
       "  387.389,994.151 391.625,1050.57 395.861,968.977 400.097,992.086 404.333,1016.51 408.569,1004.25 412.805,931.637 417.041,1010.95 421.277,947.991 425.513,988.794 \n",
       "  429.749,931.332 433.985,850.797 438.22,845.199 442.456,855.067 446.692,822.282 450.928,776.776 455.164,729.344 459.4,699.527 463.636,699.417 467.872,696.686 \n",
       "  472.108,675.605 476.344,728.812 480.58,797.926 484.816,800.117 489.052,848.447 493.288,781.806 497.524,761.344 501.76,837.578 505.996,813.691 510.232,856.336 \n",
       "  514.468,791.154 518.704,777.026 522.94,715.536 527.176,722.677 531.412,712.237 535.648,641.435 539.884,660.863 544.12,690.322 548.356,646.502 552.592,602.056 \n",
       "  556.828,665.62 561.064,606.553 565.3,668.819 569.536,610.962 573.772,578.495 578.008,545.908 582.244,544.066 586.48,554.968 590.716,587.239 594.952,653.596 \n",
       "  599.188,729.848 603.424,673.394 607.66,695.082 611.896,622.717 616.132,611.141 620.368,565.163 624.604,515.563 628.84,556.366 633.076,508.47 637.311,568.325 \n",
       "  641.547,638.003 645.783,626.247 650.019,692.386 654.255,658.677 658.491,694.949 662.727,724.406 666.963,751.355 671.199,771.106 675.435,709.955 679.671,732.891 \n",
       "  683.907,806.488 688.143,731.641 692.379,724.354 696.615,706.101 700.851,626.342 705.087,617.01 709.323,611.857 713.559,534.854 717.795,475.276 722.031,455.354 \n",
       "  726.267,472.607 730.503,495.825 734.739,511.907 738.975,572.191 743.211,613.958 747.447,665.152 751.683,745.135 755.919,692.456 760.155,729.09 764.391,809.482 \n",
       "  768.627,855.352 772.863,838.791 777.099,811.532 781.335,863.998 785.571,823.458 789.807,854.074 794.043,908.161 798.279,828.317 802.515,910.136 806.751,860.419 \n",
       "  810.987,863.218 815.223,874.189 819.459,895.491 823.695,853.135 827.931,931.41 832.167,914.834 836.403,928.434 840.638,977.102 844.874,958.418 849.11,1006.19 \n",
       "  853.346,991.028 857.582,977.041 861.818,923.467 866.054,990.611 870.29,1001.23 874.526,1017.11 878.762,942.197 882.998,998.251 887.234,1038.63 891.47,968.829 \n",
       "  895.706,1004.5 899.942,951.636 904.178,958.227 908.414,914.586 912.65,903.373 916.886,889.077 921.122,878.839 925.358,854.202 929.594,836.841 933.83,847.81 \n",
       "  938.066,801.054 942.302,852.451 946.538,866.387 950.774,928.536 955.01,914.639 959.246,918.478 963.482,973.36 967.718,890.123 971.954,842.038 976.19,828.218 \n",
       "  980.426,765.123 984.662,768.418 988.898,698.418 993.134,780.884 997.37,698.438 1001.61,775.449 1005.84,758.795 1010.08,785.514 1014.31,800.645 1018.55,806.028 \n",
       "  1022.79,828.185 1027.02,750.543 1031.26,671.952 1035.49,691.78 1039.73,639.791 1043.97,641.112 1048.2,672.711 1052.44,608.117 1056.67,541.485 1060.91,471.262 \n",
       "  1065.15,407.677 1069.38,456.344 1073.62,454.02 1077.85,413.649 1082.09,433.103 1086.33,453.495 1090.56,536.935 1094.8,539.126 1099.03,586.207 1103.27,635.453 \n",
       "  1107.51,670.432 1111.74,637.232 1115.98,607.064 1120.21,667.563 1124.45,715.468 1128.69,762.18 1132.92,756.68 1137.16,808.464 1141.39,754.143 1145.63,833.755 \n",
       "  1149.86,755.656 1154.1,814.095 1158.34,754.115 1162.57,795.516 1166.81,851.278 1171.04,902.364 1175.28,921.921 1179.52,861.861 1183.75,835.218 1187.99,831.721 \n",
       "  1192.22,775.439 1196.46,820.165 1200.7,779.366 1204.93,840.474 1209.17,791.163 1213.4,708.797 1217.64,678.793 1221.88,673.674 1226.11,703.418 1230.35,706.167 \n",
       "  1234.58,641.115 1238.82,645.086 1243.06,639.927 1247.29,565.52 1251.53,508.888 1255.76,506.546 1260,461.933 1264.24,464.931 1268.47,476.722 1272.71,541.735 \n",
       "  1276.94,510.482 1281.18,449.124 1285.42,527.932 1289.65,517.087 1293.89,478.684 1298.12,560.191 1302.36,532.45 1306.6,514.182 1310.83,564.917 1315.07,638.644 \n",
       "  1319.3,596.373 1323.54,531.78 1327.78,510.424 1332.01,439.009 1336.25,430.929 1340.48,450.824 1344.72,416.714 1348.96,380.738 1353.19,459.267 1357.43,385.587 \n",
       "  1361.66,464.558 1365.9,400.523 1370.14,426.001 1374.37,349.262 1378.61,360.432 1382.84,411.747 1387.08,420.859 1391.32,408.583 1395.55,431.854 1399.79,388.337 \n",
       "  1404.02,362.927 1408.26,425.172 1412.5,421.157 1416.73,361.222 1420.97,441.178 1425.2,375.725 1429.44,404.625 1433.68,389.034 1437.91,437.235 1442.15,446.076 \n",
       "  1446.38,469.195 1450.62,448.017 1454.86,407.881 1459.09,383.82 1463.33,328.857 1467.56,291.298 1471.8,280.754 1476.04,332.103 1480.27,254.166 1484.51,284.475 \n",
       "  1488.74,250.669 1492.98,240.203 1497.22,165.233 1501.45,165.349 1505.69,183.593 1509.92,181.359 1514.16,233.16 1518.4,264.145 1522.63,269.746 1526.87,250.636 \n",
       "  1531.1,270.857 1535.34,252.118 1539.58,293.542 1543.81,345.249 1548.05,359.272 1552.28,421.381 1556.52,341.534 1560.75,310.932 1564.99,348.425 1569.23,399.74 \n",
       "  1573.46,448.964 1577.7,395.898 1581.93,357.32 1586.17,371.267 1590.41,422.404 1594.64,462.723 1598.88,471.661 1603.11,421.673 1607.35,410.439 1611.59,328.979 \n",
       "  1615.82,250.711 1620.06,187.762 1624.29,168.518 1628.53,179.587 1632.77,249.889 1637,245.968 1641.24,224.498 1645.47,188.138 1649.71,267.406 1653.95,249.176 \n",
       "  1658.18,305.102 1662.42,368.309 1666.65,443.863 1670.89,408.957 1675.13,420.73 1679.36,470.233 1683.6,475.864 1687.83,475.028 1692.07,443.274 1696.31,495.692 \n",
       "  1700.54,533.421 1704.78,475.325 1709.01,483.074 1713.25,504.235 1717.49,517.812 1721.72,564.32 1725.96,627.861 1730.19,633.574 1734.43,695.539 1738.67,746.644 \n",
       "  1742.9,694.759 1747.14,730.815 1751.37,761.447 1755.61,736.077 1759.85,770.687 1764.08,821.177 1768.32,852.156 1772.55,917.273 1776.79,931.594 1781.03,880.25 \n",
       "  1785.26,847.603 1789.5,770.314 1793.73,771.678 1797.97,827.865 1802.21,798.893 1806.44,750.47 1810.68,814.649 1814.91,796.928 1819.15,826.423 1823.39,863.906 \n",
       "  1827.62,864.903 1831.86,807.187 1836.09,730.299 1840.33,727.602 1844.57,711.192 1848.8,780.029 1853.04,743.241 1857.27,812.348 1861.51,802.138 1865.75,784.885 \n",
       "  1869.98,717.088 1874.22,737.95 1878.45,699.911 1882.69,723.613 1886.93,665.116 1891.16,666.524 1895.4,586.519 1899.63,600.142 1903.87,595.114 1908.11,609.533 \n",
       "  1912.34,600.492 1916.58,653.09 1920.81,601.007 1925.05,537.235 1929.29,487.694 1933.52,442.404 1937.76,391.79 1941.99,345.986 1946.23,350.219 1950.46,406.08 \n",
       "  1954.7,431.983 1958.94,421.936 1963.17,497.302 1967.41,477.858 1971.64,503.851 1975.88,492.598 1980.12,545.118 1984.35,511.428 1988.59,441.636 1992.82,455.147 \n",
       "  1997.06,538.008 2001.3,466.741 2005.53,412.231 2009.77,364.309 2014,436.977 2018.24,426.934 2022.48,428.029 2026.71,352.731 2030.95,417.423 2035.18,402.479 \n",
       "  2039.42,424.468 2043.66,475.039 2047.89,452.987 2052.13,426.956 2056.36,465.012 2060.6,436.752 2064.84,515.959 2069.07,459.499 2073.31,442.303 2077.54,495.991 \n",
       "  2081.78,535.896 2086.02,556.041 2090.25,530.97 2094.49,610.755 2098.72,611.196 2102.96,652.049 2107.2,686.877 2111.43,768.467 2115.67,739.523 2119.9,717.671 \n",
       "  2124.14,672.252 2128.38,662.973 2132.61,641.396 2136.85,628.284 2141.08,704.307 2145.32,750.132 2149.56,751.06 2153.79,827.301 2158.03,795.443 2162.26,847.912 \n",
       "  2166.5,930.256 2170.74,994.17 2174.97,938.901 2179.21,988.063 2183.44,1039.6 2187.68,1044.36 2191.92,1079.6 2196.15,1060.79 2200.39,1103.28 2204.62,1158.16 \n",
       "  2208.86,1200.94 2213.1,1269.1 2217.33,1264.83 2221.57,1202.12 2225.8,1221.85 2230.04,1288.63 2234.28,1213.62 2238.51,1276.83 2242.75,1330.51 2246.98,1376.42 \n",
       "  2251.22,1368.02 2255.46,1427.77 2259.69,1445.72 2263.93,1361.85 2268.16,1320.51 2272.4,1314.09 2276.64,1363.13 2280.87,1367.14 2285.11,1348.25 2289.34,1341.52 \n",
       "  \n",
       "  \"/>\n",
       "<path clip-path=\"url(#clip220)\" d=\"\n",
       "M1978.1 276.658 L2278.07 276.658 L2278.07 95.2176 L1978.1 95.2176  Z\n",
       "  \" fill=\"#ffffff\" fill-rule=\"evenodd\" fill-opacity=\"1\"/>\n",
       "<polyline clip-path=\"url(#clip220)\" style=\"stroke:#000000; stroke-width:4; stroke-opacity:1; fill:none\" points=\"\n",
       "  1978.1,276.658 2278.07,276.658 2278.07,95.2176 1978.1,95.2176 1978.1,276.658 \n",
       "  \"/>\n",
       "<polyline clip-path=\"url(#clip220)\" style=\"stroke:#009af9; stroke-width:4; stroke-opacity:1; fill:none\" points=\"\n",
       "  2002.99,155.698 2152.37,155.698 \n",
       "  \"/>\n",
       "<path clip-path=\"url(#clip220)\" d=\"M 0 0 M2191.1 175.385 Q2189.3 180.015 2187.59 181.427 Q2185.87 182.839 2183 182.839 L2179.6 182.839 L2179.6 179.274 L2182.1 179.274 Q2183.86 179.274 2184.83 178.44 Q2185.8 177.607 2186.98 174.505 L2187.75 172.561 L2177.26 147.052 L2181.77 147.052 L2189.88 167.329 L2197.98 147.052 L2202.49 147.052 L2191.1 175.385 Z\" fill=\"#000000\" fill-rule=\"evenodd\" fill-opacity=\"1\" /><path clip-path=\"url(#clip220)\" d=\"M 0 0 M2208.37 169.042 L2216.01 169.042 L2216.01 142.677 L2207.7 144.343 L2207.7 140.084 L2215.96 138.418 L2220.64 138.418 L2220.64 169.042 L2228.28 169.042 L2228.28 172.978 L2208.37 172.978 L2208.37 169.042 Z\" fill=\"#000000\" fill-rule=\"evenodd\" fill-opacity=\"1\" /><polyline clip-path=\"url(#clip220)\" style=\"stroke:#e26f46; stroke-width:4; stroke-opacity:1; fill:none\" points=\"\n",
       "  2002.99,216.178 2152.37,216.178 \n",
       "  \"/>\n",
       "<path clip-path=\"url(#clip220)\" d=\"M 0 0 M2191.1 235.865 Q2189.3 240.495 2187.59 241.907 Q2185.87 243.319 2183 243.319 L2179.6 243.319 L2179.6 239.754 L2182.1 239.754 Q2183.86 239.754 2184.83 238.92 Q2185.8 238.087 2186.98 234.985 L2187.75 233.041 L2177.26 207.532 L2181.77 207.532 L2189.88 227.809 L2197.98 207.532 L2202.49 207.532 L2191.1 235.865 Z\" fill=\"#000000\" fill-rule=\"evenodd\" fill-opacity=\"1\" /><path clip-path=\"url(#clip220)\" d=\"M 0 0 M2211.59 229.522 L2227.91 229.522 L2227.91 233.458 L2205.96 233.458 L2205.96 229.522 Q2208.63 226.768 2213.21 222.138 Q2217.82 217.485 2219 216.143 Q2221.24 213.62 2222.12 211.884 Q2223.02 210.124 2223.02 208.435 Q2223.02 205.68 2221.08 203.944 Q2219.16 202.208 2216.06 202.208 Q2213.86 202.208 2211.4 202.972 Q2208.97 203.735 2206.2 205.286 L2206.2 200.564 Q2209.02 199.43 2211.47 198.851 Q2213.93 198.273 2215.96 198.273 Q2221.33 198.273 2224.53 200.958 Q2227.72 203.643 2227.72 208.134 Q2227.72 210.263 2226.91 212.185 Q2226.13 214.083 2224.02 216.675 Q2223.44 217.347 2220.34 220.564 Q2217.24 223.759 2211.59 229.522 Z\" fill=\"#000000\" fill-rule=\"evenodd\" fill-opacity=\"1\" /></svg>\n"
      ]
     },
     "execution_count": 30,
     "metadata": {},
     "output_type": "execute_result"
    }
   ],
   "source": [
    "# Lets try plotting again to see that it is faster this time.\n",
    "plot([cumsum(rand(500) .- 0.5), cumsum(rand(500) .- 0.5)])"
   ]
  },
  {
   "cell_type": "code",
   "execution_count": null,
   "metadata": {},
   "outputs": [],
   "source": []
  }
 ],
 "metadata": {
  "kernelspec": {
   "display_name": "Julia 1.5.0",
   "language": "julia",
   "name": "julia-1.5"
  },
  "language_info": {
   "file_extension": ".jl",
   "mimetype": "application/julia",
   "name": "julia",
   "version": "1.5.0"
  }
 },
 "nbformat": 4,
 "nbformat_minor": 4
}
